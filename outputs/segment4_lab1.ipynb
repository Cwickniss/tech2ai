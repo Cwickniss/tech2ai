{
 "cells": [
  {
   "cell_type": "markdown",
   "id": "e06c733a-1124-44b5-a634-37d0887fdfe6",
   "metadata": {},
   "source": [
    "# Segment 4 Lab 1\n",
    "\n",
    "## Introduction to this segment's labs\n",
    "\n",
    "# Introducing: The Price Is Right\n",
    "\n",
    "We are going to build a multi-agent framework that will:\n",
    "1. Pull RSS feeds from the web and interpret them, looking for promising deals (multi-shot prompting, structured outputs)\n",
    "2. Use RAG and a Frontier Model to estimate the price of a product, using a knowledge base\n",
    "3. Use a QLoRA fine tuned LLM to estimate the price\n",
    "4. Send a push notification when it finds a deal that's worth significantly less than it estimates\n",
    "5. A planning agent will orchestrate this\n",
    "\n",
    "### We'll be going through this fast - the idea is for you to come back and try it yourself!\n",
    "\n",
    "\n",
    "## First: Let's look at the Agent code for interpreting RSS feeds using multi-shot prompting"
   ]
  },
  {
   "cell_type": "code",
   "execution_count": 1,
   "id": "2db71ba5-55a8-48b7-97d5-9db8dc872837",
   "metadata": {},
   "outputs": [],
   "source": [
    "# Some imports\n",
    "\n",
    "from dotenv import load_dotenv\n",
    "from agents.deals import ScrapedDeal\n",
    "from openai import OpenAI\n",
    "import logging"
   ]
  },
  {
   "cell_type": "code",
   "execution_count": 2,
   "id": "b044d040-e467-4463-a3a5-119939ca8199",
   "metadata": {},
   "outputs": [],
   "source": [
    "# Set up our env variables as before\n",
    "\n",
    "load_dotenv(override=True)\n",
    "openai = OpenAI()\n",
    "MODEL = \"gpt-4o-mini\""
   ]
  },
  {
   "cell_type": "code",
   "execution_count": 3,
   "id": "a6b8a0f3-af5c-4f21-8a5f-a4df4fa420ad",
   "metadata": {},
   "outputs": [
    {
     "name": "stderr",
     "output_type": "stream",
     "text": [
      "100%|█████████████████████████████████████████████████████████████████████████████████████████████████████████████████████████████████████████████████████████████████| 3/3 [00:08<00:00,  2.68s/it]\n"
     ]
    }
   ],
   "source": [
    "# I wrote this code to fetch RSS feeds\n",
    "\n",
    "scraped_deals = ScrapedDeal.fetch(show_progress=True)"
   ]
  },
  {
   "cell_type": "code",
   "execution_count": 4,
   "id": "e50266c2-10b6-4e36-a2cb-a5297c1d8e7a",
   "metadata": {},
   "outputs": [
    {
     "name": "stdout",
     "output_type": "stream",
     "text": [
      "Title: Dell Speakerphone for $74 + free shipping\n",
      "Details: That's a savings of $6 and the first discount we've seen. Buy Now at Dell Technologies\n",
      "Features: \"The world’s most intelligent Microsoft Teams-certified speakerphone\" Volume, microphone on/mute switch, status indicator, answer/end, power/streaming LED indicator, reject call, microphone volume, Microsoft Teams button, answer call AI Noise Cancellation filters out background noise in your environment True stereo output with left and right speakers  Full Duplex Audio allows multiple participants to speak simultaneously, and echo-cancellation eliminates interruptions USB connectivity Model: S\n",
      "URL: https://www.dealnews.com/products/Dell/Dell-Speakerphone/487582.html?iref=rss-c142\n"
     ]
    }
   ],
   "source": [
    "print(scraped_deals[3].describe())"
   ]
  },
  {
   "cell_type": "code",
   "execution_count": 5,
   "id": "84278b54-5289-4d60-8ea6-7de9f8067663",
   "metadata": {},
   "outputs": [],
   "source": [
    "SYSTEM_PROMPT = \"\"\"You identify and summarize the 5 most detailed deals from a list, by selecting deals that have the most detailed, high quality description and the most clear price.\n",
    "Respond strictly in JSON with no explanation, using this format. You should provide the price as a number derived from the description. If the price of a deal isn't clear, do not include that deal in your response.\n",
    "Most important is that you respond with the 5 deals that have the most detailed product description with price. It's not important to mention the terms of the deal; most important is a thorough description of the product.\n",
    "Be careful with products that are described as \"$XXX off\" or \"reduced by $XXX\" - this isn't the actual price of the product. Only respond with products when you are highly confident about the price. \n",
    "    \n",
    "{\"deals\": [\n",
    "    {\n",
    "        \"product_description\": \"Your clearly expressed summary of the product in 4-5 sentences. Details of the item are much more important than why it's a good deal. Avoid mentioning discounts and coupons; focus on the item itself. There should be a paragpraph of text for each item you choose.\",\n",
    "        \"price\": 99.99,\n",
    "        \"url\": \"the url as provided\"\n",
    "    },\n",
    "    ...\n",
    "]}\"\"\""
   ]
  },
  {
   "cell_type": "code",
   "execution_count": 6,
   "id": "af2545a0-e160-41db-8914-f77b1c7eff26",
   "metadata": {},
   "outputs": [],
   "source": [
    "USER_PROMPT_PREFIX = \"\"\"Respond with the most promising 5 deals from this list, selecting those which have the most detailed, high quality product description and a clear price that is greater than 0.\n",
    "Respond strictly in JSON, and only JSON. You should rephrase the description to be a summary of the product itself, not the terms of the deal.\n",
    "Remember to respond with a paragraph of text in the product_description field for each of the 5 items that you select.\n",
    "Be careful with products that are described as \"$XXX off\" or \"reduced by $XXX\" - this isn't the actual price of the product. Only respond with products when you are highly confident about the price. \n",
    "    \n",
    "Deals:\n",
    "    \n",
    "\"\"\"\n",
    "\n",
    "USER_PROMPT_SUFFIX = \"\"\"\\n\\nStrictly respond in JSON and include exactly 5 deals, no more.\n",
    "Your response must follow this format:\n",
    "\n",
    "{\"deals\": [\n",
    "    {\n",
    "        \"product_description\": \"Your summary of the product in 4-5 sentences. Details of the item are much more important than why it's a good deal. Avoid mentioning discounts and coupons; focus on the item itself. There should be a paragpraph of text for each item you choose.\",\n",
    "        \"price\": 99.99,\n",
    "        \"url\": \"the url as provided\"\n",
    "    },\n",
    "    {\n",
    "        \"product_description\": \"Your summary of the product in 4-5 sentences. Details of the item are much more important than why it's a good deal. Avoid mentioning discounts and coupons; focus on the item itself. There should be a paragpraph of text for each item you choose.\",\n",
    "        \"price\": 210.30,\n",
    "        \"url\": \"the url as provided\"\n",
    "    },\n",
    "    ...\n",
    "]}\n",
    "\"\"\""
   ]
  },
  {
   "cell_type": "code",
   "execution_count": 7,
   "id": "cf00a4e4-62c7-47a4-8415-2b7b4f86391a",
   "metadata": {},
   "outputs": [],
   "source": [
    "# this makes a suitable user prompt given scraped deals\n",
    "\n",
    "def make_user_prompt(scraped):\n",
    "    user_prompt = USER_PROMPT_PREFIX\n",
    "    user_prompt += '\\n\\n'.join([scrape.describe() for scrape in scraped])\n",
    "    user_prompt += USER_PROMPT_SUFFIX\n",
    "    return user_prompt"
   ]
  },
  {
   "cell_type": "code",
   "execution_count": 8,
   "id": "504ecdac-7228-48eb-80b4-6e31d2dc8f5a",
   "metadata": {},
   "outputs": [
    {
     "name": "stdout",
     "output_type": "stream",
     "text": [
      "Respond with the most promising 5 deals from this list, selecting those which have the most detailed, high quality product description and a clear price that is greater than 0.\n",
      "Respond strictly in JSON, and only JSON. You should rephrase the description to be a summary of the product itself, not the terms of the deal.\n",
      "Remember to respond with a paragraph of text in the product_description field for each of the 5 items that you select.\n",
      "Be careful with products that are described as \"$XXX off\" or \"reduced by $XXX\" - this isn't the actual price of the product. Only respond with products when you are highly confident about the price. \n",
      "    \n",
      "Deals:\n",
      "    \n",
      "Title: TYLT 10W Qi Wireless Charging Tray for $15 + free shipping\n",
      "Details: That's a $5 low. Buy Now at eBay\n",
      "Features: \n",
      "URL: https://www.dealnews.com/TYLT-10-W-Qi-Wireless-Charging-Tray-for-15-free-shipping/21722245.html?iref=rss-c142\n",
      "\n",
      "Title: Mint Mobile 3-Month Unlimited Plan SIM Kit for $51.99 + free shipping\n",
      "Details: Most merchants charge $90. Buy Now at eBay\n",
      "Features: \n",
      "URL: https://www.dealnews.com/Mint-Mobile-3-Month-Unlimited-Plan-SIM-Kit-for-51-99-free-shipping/21722243.html?iref=rss-c142\n",
      "\n",
      "Title: Altec Lansing HydraMini 2.0 Bluetooth Speaker for $11 + free shipping\n",
      "Details: You'd pay around $30 elsewhere. Buy Now at eBay\n",
      "Features: stereo pairing floats on water USB-C quick charge up to 12-hour playtime 100-ft. Bluetooth range speaker mount, carabiner, and built-in magnet\n",
      "URL: https://www.dealnews.com/Altec-Lansing-Hydra-Mini-2-0-Bluetooth-Speaker-for-11-free-shipping/21722237.html?iref=rss-c142\n",
      "\n",
      "Title: Dell Speakerphone for $74 + free shipping\n",
      "Details: That's a savings of $6 and the first discount we've seen. Buy Now at Dell Technologies\n",
      "Features: \"The world’s most intelligent Microsoft Teams-certified speakerphone\" Volume, microphone on/mute switch, status indicator, answer/end, power/streaming LED indicator, reject call, microphone volume, Microsoft Teams button, answer call AI Noise Cancellation filters out backgr\n"
     ]
    }
   ],
   "source": [
    "user_prompt = make_user_prompt(scraped_deals)\n",
    "print(user_prompt[:2000])"
   ]
  },
  {
   "cell_type": "code",
   "execution_count": 9,
   "id": "20401a75-c12a-466b-9e66-7cd46ac03443",
   "metadata": {},
   "outputs": [
    {
     "name": "stdout",
     "output_type": "stream",
     "text": [
      "{\n",
      "    \"deals\": [\n",
      "        {\n",
      "            \"product_description\": \"The Dell Speakerphone is designed for seamless communication and collaboration, featuring Microsoft Teams certification for an enhanced conferencing experience. It includes controls for volume, mute, and call answering, along with a status indicator. The speakerphone boasts AI Noise Cancellation to filter out background sounds, ensuring clear audio for all participants. With USB connectivity and full duplex audio, it allows multiple speakers to communicate effectively without interruptions.\",\n",
      "            \"price\": 74,\n",
      "            \"url\": \"https://www.dealnews.com/products/Dell/Dell-Speakerphone/487582.html?iref=rss-c142\"\n",
      "        },\n",
      "        {\n",
      "            \"product_description\": \"The Apple iPad Air with M3 chip is a high-performance tablet offering unmatched speed and efficiency for various tasks. Available in 11\\\" and 13\\\" models, it features a range of storage options from 128GB to 1TB and supports WiFi or WiFi + Cellular connectivity. The iPad Air is ideally suited for professionals and creatives alike, with its powerful processor enhancing productivity and multitasking capabilities. Preordering starts from $599, marking it as an exciting addition to Apple's lineup.\",\n",
      "            \"price\": 599,\n",
      "            \"url\": \"https://www.dealnews.com/Apple-iPad-Air-M3-2025-Preorders-from-599-available-March-12-free-shipping/21722113.html?iref=rss-c39\"\n",
      "        },\n",
      "        {\n",
      "            \"product_description\": \"The Samsung Odyssey Neo G7 is a 43-inch 4K Mini-LED monitor designed for gamers and content creators alike. It boasts a native resolution of 3840x2160 and a fast 144Hz refresh rate, paired with AMD FreeSync technology for smooth and immersive gameplay. The monitor is equipped with smart TV apps and features multiple connectivity options, including USB 3.0, DisplayPort, and HDMI inputs, making it a versatile addition to any setup.\",\n",
      "            \"price\": 600,\n",
      "            \"url\": \"https://www.dealnews.com/products/Samsung/Samsung-Odyssey-Neo-G7-43-4-K-144-Hz-Mini-LED-Free-Sync-Smart-Monitor/459768.html?iref=rss-f1912\"\n",
      "        },\n",
      "        {\n",
      "            \"product_description\": \"The Philips Hue White & Color Ambiance A19 LED Starter Kit provides unrivaled lighting versatility within your smart home. This kit includes a Hue Bridge for smart home automation and supports timer sync with media. With the ability to produce 16 million colors, this lighting solution can enhance any room or occasion. It integrates easily with your existing setup, allowing for customized lighting experiences tailored to your preferences.\",\n",
      "            \"price\": 110,\n",
      "            \"url\": \"https://www.dealnews.com/products/Philips/Philips-Hue-White-Color-Ambiance-A19-LED-Starter-Kit/375866.html?iref=rss-f1912\"\n",
      "        },\n",
      "        {\n",
      "            \"product_description\": \"The Certified Refurb Roborock Q7 Max+ is a robot vacuum and mop that simplifies your cleaning routine with advanced technology. Designed to efficiently vacuum and mop your floors, this device comes equipped with smart navigation and powerful suction capabilities. It also includes a two-year Allstate warranty, ensuring peace of mind with your purchase, and is perfect for maintaining a clean environment effortlessly.\",\n",
      "            \"price\": 256,\n",
      "            \"url\": \"https://www.dealnews.com/products/Roborock/Roborock-Q7-Max-Robot-Vacuum-and-Mop/478237.html?iref=rss-f1912\"\n",
      "        }\n",
      "    ]\n",
      "}"
     ]
    }
   ],
   "source": [
    "# Create the user prompt that reflects the deals we have scraped\n",
    "\n",
    "user_prompt = make_user_prompt(scraped_deals)\n",
    "\n",
    "# Call OpenAI using their Python client. Request a response in JSON and stream it back.\n",
    "\n",
    "stream = openai.chat.completions.create(\n",
    "    model=MODEL,\n",
    "    messages=[\n",
    "        {\"role\": \"system\", \"content\": SYSTEM_PROMPT},\n",
    "        {\"role\": \"user\", \"content\": user_prompt}\n",
    "  ],\n",
    "    max_tokens=1000,\n",
    "    stream=True,\n",
    "    response_format={\"type\": \"json_object\"}\n",
    ")\n",
    "\n",
    "response = \"\"\n",
    "for chunk in stream:\n",
    "    chunk_text = chunk.choices[0].delta.content or ''\n",
    "    response += chunk_text\n",
    "    print(chunk_text, end=\"\", flush=True)"
   ]
  },
  {
   "cell_type": "code",
   "execution_count": 10,
   "id": "70e74543-5aa6-4b92-bfde-a40451db295f",
   "metadata": {},
   "outputs": [
    {
     "data": {
      "text/plain": [
       "{'deals': [{'product_description': 'The Dell Speakerphone is designed for seamless communication and collaboration, featuring Microsoft Teams certification for an enhanced conferencing experience. It includes controls for volume, mute, and call answering, along with a status indicator. The speakerphone boasts AI Noise Cancellation to filter out background sounds, ensuring clear audio for all participants. With USB connectivity and full duplex audio, it allows multiple speakers to communicate effectively without interruptions.',\n",
       "   'price': 74,\n",
       "   'url': 'https://www.dealnews.com/products/Dell/Dell-Speakerphone/487582.html?iref=rss-c142'},\n",
       "  {'product_description': 'The Apple iPad Air with M3 chip is a high-performance tablet offering unmatched speed and efficiency for various tasks. Available in 11\" and 13\" models, it features a range of storage options from 128GB to 1TB and supports WiFi or WiFi + Cellular connectivity. The iPad Air is ideally suited for professionals and creatives alike, with its powerful processor enhancing productivity and multitasking capabilities. Preordering starts from $599, marking it as an exciting addition to Apple\\'s lineup.',\n",
       "   'price': 599,\n",
       "   'url': 'https://www.dealnews.com/Apple-iPad-Air-M3-2025-Preorders-from-599-available-March-12-free-shipping/21722113.html?iref=rss-c39'},\n",
       "  {'product_description': 'The Samsung Odyssey Neo G7 is a 43-inch 4K Mini-LED monitor designed for gamers and content creators alike. It boasts a native resolution of 3840x2160 and a fast 144Hz refresh rate, paired with AMD FreeSync technology for smooth and immersive gameplay. The monitor is equipped with smart TV apps and features multiple connectivity options, including USB 3.0, DisplayPort, and HDMI inputs, making it a versatile addition to any setup.',\n",
       "   'price': 600,\n",
       "   'url': 'https://www.dealnews.com/products/Samsung/Samsung-Odyssey-Neo-G7-43-4-K-144-Hz-Mini-LED-Free-Sync-Smart-Monitor/459768.html?iref=rss-f1912'},\n",
       "  {'product_description': 'The Philips Hue White & Color Ambiance A19 LED Starter Kit provides unrivaled lighting versatility within your smart home. This kit includes a Hue Bridge for smart home automation and supports timer sync with media. With the ability to produce 16 million colors, this lighting solution can enhance any room or occasion. It integrates easily with your existing setup, allowing for customized lighting experiences tailored to your preferences.',\n",
       "   'price': 110,\n",
       "   'url': 'https://www.dealnews.com/products/Philips/Philips-Hue-White-Color-Ambiance-A19-LED-Starter-Kit/375866.html?iref=rss-f1912'},\n",
       "  {'product_description': 'The Certified Refurb Roborock Q7 Max+ is a robot vacuum and mop that simplifies your cleaning routine with advanced technology. Designed to efficiently vacuum and mop your floors, this device comes equipped with smart navigation and powerful suction capabilities. It also includes a two-year Allstate warranty, ensuring peace of mind with your purchase, and is perfect for maintaining a clean environment effortlessly.',\n",
       "   'price': 256,\n",
       "   'url': 'https://www.dealnews.com/products/Roborock/Roborock-Q7-Max-Robot-Vacuum-and-Mop/478237.html?iref=rss-f1912'}]}"
      ]
     },
     "execution_count": 10,
     "metadata": {},
     "output_type": "execute_result"
    }
   ],
   "source": [
    "import json\n",
    "json.loads(response)"
   ]
  },
  {
   "cell_type": "markdown",
   "id": "a99b6d4b-6223-4901-902a-14f1bda34244",
   "metadata": {},
   "source": [
    "# Putting this into an \"Agent\"\n",
    "\n",
    "I've packaged this code into a class called `ScannerAgent`\n",
    "\n",
    "There are various Agent frameworks that add an abstraction layer, but in our case it's easy just to write the code directly."
   ]
  },
  {
   "cell_type": "code",
   "execution_count": 11,
   "id": "81eb5f68-168c-4d6c-936a-40b79f08f26a",
   "metadata": {},
   "outputs": [],
   "source": [
    "root = logging.getLogger()\n",
    "root.setLevel(logging.INFO)"
   ]
  },
  {
   "cell_type": "code",
   "execution_count": 12,
   "id": "9d0af2d8-4419-49a7-af66-218a2d1f986c",
   "metadata": {},
   "outputs": [
    {
     "name": "stderr",
     "output_type": "stream",
     "text": [
      "INFO:root:\u001b[40m\u001b[36m[Scanner Agent] Scanner Agent is initializing\u001b[0m\n",
      "INFO:root:\u001b[40m\u001b[36m[Scanner Agent] Scanner Agent is ready\u001b[0m\n",
      "INFO:root:\u001b[40m\u001b[36m[Scanner Agent] Scanner Agent is about to fetch deals from RSS feed\u001b[0m\n",
      "INFO:root:\u001b[40m\u001b[36m[Scanner Agent] Scanner Agent received 15 deals not already scraped\u001b[0m\n",
      "INFO:root:\u001b[40m\u001b[36m[Scanner Agent] Scanner Agent is calling OpenAI using Structured Output\u001b[0m\n",
      "INFO:httpx:HTTP Request: POST https://api.openai.com/v1/chat/completions \"HTTP/1.1 200 OK\"\n",
      "INFO:root:\u001b[40m\u001b[36m[Scanner Agent] Scanner Agent received 5 selected deals with price>0 from OpenAI\u001b[0m\n"
     ]
    },
    {
     "name": "stdout",
     "output_type": "stream",
     "text": [
      "deals=[Deal(product_description='The TYLT 10W Qi Wireless Charging Tray is a sleek and convenient charging solution for compatible smartphones. It features a minimalist design that fits perfectly on any desk or nightstand. With its advanced Qi technology, it can deliver up to 10 watts of power, ensuring a fast charging experience for your device. Its compact size makes it highly portable, ideal for both home and office use, and it includes a free shipping option for added convenience.', price=15.0, url='https://www.dealnews.com/TYLT-10-W-Qi-Wireless-Charging-Tray-for-15-free-shipping/21722245.html?iref=rss-c142'), Deal(product_description='The Mint Mobile 3-Month Unlimited Plan SIM Kit offers a flexible and budget-friendly mobile service. This plan provides unlimited talk, text, and data access with 5G coverage, ensuring that you stay connected without the worry of overage charges. Compatible with a wide range of unlocked devices, this plan allows you to enjoy unlimited streaming, social media, and browsing within the United States. Additionally, shipping is free, making it an excellent choice for mobile users.', price=51.99, url='https://www.dealnews.com/Mint-Mobile-3-Month-Unlimited-Plan-SIM-Kit-for-51-99-free-shipping/21722243.html?iref=rss-c142'), Deal(product_description=\"The Altec Lansing HydraMini 2.0 Bluetooth Speaker is designed for both indoor and outdoor usage, featuring a waterproof design that floats on water. It allows for stereo pairing, enabling you to enhance your listening experience by connecting two speakers wirelessly. With a remarkable 12-hour playtime and a robust 100-foot Bluetooth range, it's perfect for picnics or backyard parties. The included carabiner and built-in magnet make it easy to attach anywhere, ensuring music is always within reach.\", price=11.0, url='https://www.dealnews.com/Altec-Lansing-Hydra-Mini-2-0-Bluetooth-Speaker-for-11-free-shipping/21722237.html?iref=rss-c142'), Deal(product_description='The Dell Speakerphone provides a high-quality audio experience with its Microsoft Teams certification, making it ideal for remote work and online meetings. It features intuitive controls like volume adjustments, a microphone mute switch, and a status indicator, ensuring seamless communication. The advanced AI Noise Cancellation technology effectively filters out background sounds, allowing for crystal-clear audio. With USB connectivity, setting it up is hassle-free, and its full duplex audio lets multiple participants converse at once without interruptions.', price=74.0, url='https://www.dealnews.com/products/Dell/Dell-Speakerphone/487582.html?iref=rss-c142'), Deal(product_description='The Samsung Odyssey Neo G7 is a 43-inch 4K Mini-LED FreeSync Smart Monitor designed for gamers and multimedia enthusiasts. It boasts a 3840x2160 resolution and a rapid 144Hz refresh rate, providing stunning visuals and smooth motion for an immersive experience. The monitor is equipped with smart TV apps and features multiple connectivity options, including DisplayPort and HDMI inputs. It’s not just a monitor; it’s an all-in-one entertainment solution that brings your favorite games and shows to life with impressive detail and clarity.', price=600.0, url='https://www.dealnews.com/products/Samsung/Samsung-Odyssey-Neo-G7-43-4-K-144-Hz-Mini-LED-Free-Sync-Smart-Monitor/459768.html?iref=rss-f1912')]\n"
     ]
    }
   ],
   "source": [
    "from agents.scanner_agent import ScannerAgent\n",
    "\n",
    "scanner = ScannerAgent()\n",
    "print(scanner.scan())"
   ]
  },
  {
   "cell_type": "code",
   "execution_count": null,
   "id": "251ca4b4-0ce5-4a20-aebc-2a43ce6bd03f",
   "metadata": {},
   "outputs": [],
   "source": []
  }
 ],
 "metadata": {
  "kernelspec": {
   "display_name": "Python 3 (ipykernel)",
   "language": "python",
   "name": "python3"
  },
  "language_info": {
   "codemirror_mode": {
    "name": "ipython",
    "version": 3
   },
   "file_extension": ".py",
   "mimetype": "text/x-python",
   "name": "python",
   "nbconvert_exporter": "python",
   "pygments_lexer": "ipython3",
   "version": "3.11.11"
  }
 },
 "nbformat": 4,
 "nbformat_minor": 5
}
