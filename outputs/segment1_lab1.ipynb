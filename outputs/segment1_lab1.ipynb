{
 "cells": [
  {
   "cell_type": "markdown",
   "id": "03c18455-71ac-4bc7-8568-5f77c4b60ac1",
   "metadata": {},
   "source": [
    "# Segment 1 Lab 1\n",
    "\n",
    "# STRAIGHT TO ACTION!\n",
    "\n",
    "Welcome to our first Jupyter Lab where we will see rapid, satisfying results!\n",
    "\n",
    "I will leave with you to try out leading LLMs through their Chat Interfaces\n",
    "\n",
    "Together, we will call them using their APIs\n",
    "\n",
    "Please see the README for instructions on setting this up and getting your API key"
   ]
  },
  {
   "cell_type": "markdown",
   "id": "1810279d-0b70-457d-8713-d9023a6650bf",
   "metadata": {},
   "source": [
    "# If this is your first time in a Jupyter Notebook..\n",
    "\n",
    "Welcome to the world of Data Science experimentation. Warning: Jupyter Notebooks are very addictive and you may find it hard to go back to IDEs afterwards!!\n",
    "\n",
    "Simply click in each cell with code and press `Shift + Enter` to execute the code and print the results.\n",
    "\n",
    "There's a notebook called \"Guide to Jupyter\" in the parent directory that will give you a handy tutorial on all things Jupyter Lab."
   ]
  },
  {
   "cell_type": "markdown",
   "id": "3b9f2064-946b-4445-bd9e-44aa58c45e29",
   "metadata": {},
   "source": [
    "## For you to experiment: Frontier models through their Chat UI\n",
    "\n",
    "The way that you are probably most familiar working with leading LLMs: through their tools.  \n",
    "Some questions you can try asking them:\n",
    "1. What kinds of business problem are most suitable for an LLM solution?\n",
    "2. How many words are there in your answer to this prompt?\n",
    "3. How many rainbows does it take to jump from Hawaii to seventeen?\n",
    "4. What does it feel like to be jealous?\n",
    "\n",
    "**ChatGPT** from OpenAI needs no introduction.\n",
    "\n",
    "Let's try some hard questions, and use the new o1 model as well as GPT-4o and gpt-4.5. Also try GPT-4o with canvas.\n",
    "\n",
    "https://chatgpt.com/?model=gpt-4o\n",
    "\n",
    "**Claude** from Anthropic is favored by many data scientists, with focus on safety, personality and brevity.\n",
    "\n",
    "https://claude.ai/new\n",
    "\n",
    "**Gemini** from Google is becoming increasingly well known as its results are surfaced in Google searches.\n",
    "\n",
    "https://gemini.google.com/app\n",
    "\n",
    "**Command R+** from Cohere focuses on accuracy and makes extensive use of RAG\n",
    "\n",
    "https://coral.cohere.com/\n",
    "\n",
    "**Meta AI** from Meta is their chat UI on their famous Llama open-source model\n",
    "\n",
    "https://www.meta.ai/\n",
    "\n",
    "**Perplexity** from Perplexity is a Search Engine well known for its customized search results\n",
    "\n",
    "https://www.perplexity.ai/\n",
    "\n",
    "**LeChat** from Mistral is the Web UI from the French AI powerhouse\n",
    "\n",
    "https://chat.mistral.ai/\n",
    "\n",
    "**DeepSeek** from DeepSeek AI needs no introduction! Deepseek-R1 is the Reasoning model, V3 is their Chat model.\n",
    "\n",
    "https://chat.deepseek.com/\n"
   ]
  },
  {
   "cell_type": "markdown",
   "id": "a058d6a3-558f-4e12-aff6-5fa949ecd454",
   "metadata": {},
   "source": [
    "## Conclusions and Takeways from exploring the Chat UIs\n",
    "\n",
    "- These models are astonishing\n",
    "- Slight variations in style and ability, but overall performance is similar at the frontier\n",
    "- The \"reasoning\" models are superior at logical problem solving; the non-reasoning models are better for chat\n",
    "- As capabilities converge, differentiation may come down to price and rate limits\n",
    "\n",
    "You'll find cost and other comparisons at this very useful leaderboard:\n",
    "\n",
    "https://www.vellum.ai/llm-leaderboard"
   ]
  },
  {
   "cell_type": "markdown",
   "id": "24228179-fe9e-4098-8669-6898459eaa76",
   "metadata": {},
   "source": [
    "## PART 2: Calling Frontier Models through APIs\n",
    "\n",
    "## Setting up your keys\n",
    "\n",
    "If you haven't done so already, you'll need to create API keys from OpenAI, Anthropic and Google.\n",
    "\n",
    "For OpenAI, visit https://openai.com/api/  \n",
    "For Anthropic, visit https://console.anthropic.com/  \n",
    "For Google, visit https://ai.google.dev/gemini-api  \n",
    "\n",
    "When you get your API keys, you need to set them as environment variables.\n",
    "\n",
    "EITHER (recommended) create a file called `.env` in this project root directory, and set your keys there:\n",
    "\n",
    "```\n",
    "OPENAI_API_KEY=xxxx\n",
    "ANTHROPIC_API_KEY=xxxx\n",
    "GOOGLE_API_KEY=xxxx\n",
    "DEEPSEEK_API_KEY=xxxx\n",
    "```\n",
    "\n",
    "OR enter the keys directly in the cells below."
   ]
  },
  {
   "cell_type": "code",
   "execution_count": 36,
   "id": "d6b3506e-b46f-44f0-ba9b-6b002835d36a",
   "metadata": {},
   "outputs": [],
   "source": [
    "# imports\n",
    "\n",
    "import os\n",
    "from dotenv import load_dotenv\n",
    "from openai import OpenAI\n",
    "import google.generativeai\n",
    "import anthropic\n",
    "from IPython.display import Markdown, display, update_display"
   ]
  },
  {
   "cell_type": "code",
   "execution_count": 37,
   "id": "bfae0a99-0235-4256-9874-1b5e718b6fc6",
   "metadata": {},
   "outputs": [
    {
     "name": "stdout",
     "output_type": "stream",
     "text": [
      "OpenAI API Key exists and begins sk-proj-\n",
      "Anthropic API Key exists and begins sk-ant-\n",
      "Google API Key exists and begins AIzaSyA5\n",
      "DeepSeek API Key exists and begins sk-\n"
     ]
    }
   ],
   "source": [
    "# Load environment variables in a file called .env\n",
    "# Print the key prefixes to help with any debugging\n",
    "\n",
    "load_dotenv(override=True)\n",
    "openai_api_key = os.getenv('OPENAI_API_KEY')\n",
    "anthropic_api_key = os.getenv('ANTHROPIC_API_KEY')\n",
    "google_api_key = os.getenv('GOOGLE_API_KEY')\n",
    "deepseek_api_key = os.getenv('DEEPSEEK_API_KEY')\n",
    "\n",
    "if openai_api_key:\n",
    "    print(f\"OpenAI API Key exists and begins {openai_api_key[:8]}\")\n",
    "else:\n",
    "    print(\"OpenAI API Key not set\")\n",
    "    \n",
    "if anthropic_api_key:\n",
    "    print(f\"Anthropic API Key exists and begins {anthropic_api_key[:7]}\")\n",
    "else:\n",
    "    print(\"Anthropic API Key not set\")\n",
    "\n",
    "if google_api_key:\n",
    "    print(f\"Google API Key exists and begins {google_api_key[:8]}\")\n",
    "else:\n",
    "    print(\"Google API Key not set\")\n",
    "\n",
    "if deepseek_api_key:\n",
    "    print(f\"DeepSeek API Key exists and begins {deepseek_api_key[:3]}\")\n",
    "else:\n",
    "    print(\"DeepSeek API Key not set (and this is optional)\")\n"
   ]
  },
  {
   "cell_type": "code",
   "execution_count": 39,
   "id": "242c6483-a9a6-4e3b-b361-e7a8c7f912e0",
   "metadata": {},
   "outputs": [],
   "source": [
    "# Connect to OpenAI, Anthropic and Google\n",
    "# All 3 APIs are similar\n",
    "# Having problems with API files? You can use openai = OpenAI(api_key=\"your-key-here\") and same for claude\n",
    "# Having problems with Google Gemini setup? Then just skip Gemini; you'll get all the experience you need from GPT and Claude.\n",
    "\n",
    "openai = OpenAI()\n",
    "\n",
    "claude = anthropic.Anthropic()\n",
    "\n",
    "google.generativeai.configure()\n",
    "\n",
    "# DeepSeek uses the OpenAI python client\n",
    "deepseek = OpenAI(api_key=deepseek_api_key, base_url=\"https://api.deepseek.com\")"
   ]
  },
  {
   "cell_type": "markdown",
   "id": "e584134a-68c6-4677-b4b0-1a7c1c93aeb4",
   "metadata": {},
   "source": [
    "## Asking LLMs a hard nuanced question to compare their capabilities\n",
    "\n",
    "Let's compare models using a challenging question that requires them to show creativity and thoughtfulness.\n",
    "\n",
    "### What information is included in the API\n",
    "\n",
    "Typically we'll pass to the API:\n",
    "- The name of the model that should be used\n",
    "- A **system message** that gives overall context for the role the LLM is playing\n",
    "- A **user message** that provides the actual prompt\n",
    "\n",
    "There are other parameters that can be used, including **temperature** which is typically between 0 and 1; higher for more random output; lower for more focused and deterministic.\n",
    "\n",
    "### The standard format of messages with an LLM, first used by OpenAI in its API and now adopted more widely\n",
    "\n",
    "Conversations use this format:\n",
    "\n",
    "```\n",
    "[\n",
    "    {\"role\": \"system\", \"content\": \"system message here\"},\n",
    "    {\"role\": \"user\", \"content\": \"user prompt here\"}\n",
    "]\n",
    "```\n"
   ]
  },
  {
   "cell_type": "code",
   "execution_count": 40,
   "id": "bbbbcc5b-8517-4a3e-9ca1-e860a072bb42",
   "metadata": {},
   "outputs": [],
   "source": [
    "system_message = \"You are a helpful assistant\"\n",
    "user_prompt = \"How would you describe the color blue to someone who has never been able to see, in 1 sentence.\""
   ]
  },
  {
   "cell_type": "code",
   "execution_count": 41,
   "id": "fead0d09-cf0f-443c-b2ce-ff1a4ecdf49c",
   "metadata": {},
   "outputs": [],
   "source": [
    "prompts = [\n",
    "    {\"role\": \"system\", \"content\": system_message},\n",
    "    {\"role\": \"user\", \"content\": user_prompt}\n",
    "  ]"
   ]
  },
  {
   "cell_type": "code",
   "execution_count": 42,
   "id": "e70cd59d-3efe-41e7-b149-ce56b9697a92",
   "metadata": {},
   "outputs": [
    {
     "name": "stdout",
     "output_type": "stream",
     "text": [
      "Blue is the serene feeling of a gentle breeze on your skin and the coolness of a calm ocean wave, evoking a sense of tranquility and depth.\n"
     ]
    }
   ],
   "source": [
    "# GPT-4o-mini\n",
    "\n",
    "completion = openai.chat.completions.create(\n",
    "    model='gpt-4o-mini',\n",
    "    messages=prompts\n",
    ")\n",
    "print(completion.choices[0].message.content)"
   ]
  },
  {
   "cell_type": "code",
   "execution_count": 43,
   "id": "1956fbe1-0510-4769-927e-4150dcbbcfb7",
   "metadata": {},
   "outputs": [
    {
     "name": "stdout",
     "output_type": "stream",
     "text": [
      "Blue feels like the soothing coolness of water, the gentle touch of a breeze, or the calmness of a quiet, endless sky.\n"
     ]
    }
   ],
   "source": [
    "# GPT-4o\n",
    "\n",
    "completion = openai.chat.completions.create(\n",
    "    model='chatgpt-4o-latest',\n",
    "    messages=prompts,\n",
    "    temperature=0.9\n",
    ")\n",
    "print(completion.choices[0].message.content)"
   ]
  },
  {
   "cell_type": "code",
   "execution_count": 44,
   "id": "6ddbb3fe-6c9e-4f1a-ae16-c20445fc5758",
   "metadata": {},
   "outputs": [
    {
     "name": "stdout",
     "output_type": "stream",
     "text": [
      "Blue is like the coolness felt on your skin during a gentle breeze, the tranquility of calm waters heard lapping at the shore, or the vastness sensed when standing beneath an open sky.\n"
     ]
    }
   ],
   "source": [
    "# Claude 3.7 Sonnet\n",
    "# API needs system message provided separately from user prompt\n",
    "# Also adding max_tokens\n",
    "\n",
    "message = claude.messages.create(\n",
    "    model=\"claude-3-7-sonnet-latest\",\n",
    "    max_tokens=200,\n",
    "    temperature=0.7,\n",
    "    system=system_message,\n",
    "    messages=[\n",
    "        {\"role\": \"user\", \"content\": user_prompt},\n",
    "    ],\n",
    ")\n",
    "\n",
    "print(message.content[0].text)"
   ]
  },
  {
   "cell_type": "code",
   "execution_count": 45,
   "id": "f543cc49-fe01-4a6c-af4e-c576f4bbc06e",
   "metadata": {},
   "outputs": [
    {
     "name": "stdout",
     "output_type": "stream",
     "text": [
      "Blue is like the feeling of a cool, calm breeze or the deep, resonant sound of a cello.\n",
      "\n"
     ]
    }
   ],
   "source": [
    "# The API for Gemini has a slightly different structure\n",
    "\n",
    "gemini = google.generativeai.GenerativeModel(\n",
    "    model_name='gemini-2.0-flash',\n",
    "    system_instruction=system_message\n",
    ")\n",
    "\n",
    "response = gemini.generate_content(user_prompt)\n",
    "print(response.text)"
   ]
  },
  {
   "cell_type": "code",
   "execution_count": 46,
   "id": "91f374bd-a7f3-4f26-a39f-039dcd786fd2",
   "metadata": {},
   "outputs": [],
   "source": [
    "orange = prompts[:]\n",
    "orange[1] = {\"role\": \"user\", \"content\": \"How would you describe the color orange to someone who has never been able to see, in 1 sentence.\"}"
   ]
  },
  {
   "cell_type": "code",
   "execution_count": 12,
   "id": "df1dd467-914c-41b3-9f1e-a5bc87b96f0f",
   "metadata": {},
   "outputs": [
    {
     "name": "stdout",
     "output_type": "stream",
     "text": [
      "\u001b[?2026h\u001b[?25l\u001b[1Gpulling manifest ⠋ \u001b[K\u001b[?25h\u001b[?2026l\u001b[?2026h\u001b[?25l\u001b[1Gpulling manifest ⠙ \u001b[K\u001b[?25h\u001b[?2026l\u001b[?2026h\u001b[?25l\u001b[1Gpulling manifest ⠹ \u001b[K\u001b[?25h\u001b[?2026l\u001b[?2026h\u001b[?25l\u001b[1Gpulling manifest ⠸ \u001b[K\u001b[?25h\u001b[?2026l\u001b[?2026h\u001b[?25l\u001b[1Gpulling manifest ⠼ \u001b[K\u001b[?25h\u001b[?2026l\u001b[?2026h\u001b[?25l\u001b[1Gpulling manifest \u001b[K\n",
      "pulling abbfaae58dbb... 100% ▕████████████████▏ 328 MB                         \u001b[K\n",
      "pulling 68010119a881... 100% ▕████████████████▏  260 B                         \u001b[K\n",
      "verifying sha256 digest \u001b[K\n",
      "writing manifest \u001b[K\n",
      "success \u001b[K\u001b[?25h\u001b[?2026l\n",
      "\u001b[?2026h\u001b[?25l\u001b[1Gpulling manifest ⠋ \u001b[K\u001b[?25h\u001b[?2026l\u001b[?2026h\u001b[?25l\u001b[1Gpulling manifest ⠙ \u001b[K\u001b[?25h\u001b[?2026l\u001b[?2026h\u001b[?25l\u001b[1Gpulling manifest \u001b[K\n",
      "pulling 74701a8c35f6... 100% ▕████████████████▏ 1.3 GB                         \u001b[K\n",
      "pulling 966de95ca8a6... 100% ▕████████████████▏ 1.4 KB                         \u001b[K\n",
      "pulling fcc5a6bec9da... 100% ▕████████████████▏ 7.7 KB                         \u001b[K\n",
      "pulling a70ff7e570d9... 100% ▕████████████████▏ 6.0 KB                         \u001b[K\n",
      "pulling 4f659a1e86d7... 100% ▕████████████████▏  485 B                         \u001b[K\n",
      "verifying sha256 digest \u001b[K\n",
      "writing manifest \u001b[K\n",
      "success \u001b[K\u001b[?25h\u001b[?2026l\n",
      "\u001b[?2026h\u001b[?25l\u001b[1Gpulling manifest ⠋ \u001b[K\u001b[?25h\u001b[?2026l\u001b[?2026h\u001b[?25l\u001b[1Gpulling manifest ⠙ \u001b[K\u001b[?25h\u001b[?2026l\u001b[?2026h\u001b[?25l\u001b[1Gpulling manifest \u001b[K\n",
      "pulling 96c415656d37... 100% ▕████████████████▏ 4.7 GB                         \u001b[K\n",
      "pulling 369ca498f347... 100% ▕████████████████▏  387 B                         \u001b[K\n",
      "pulling 6e4c38e1172f... 100% ▕████████████████▏ 1.1 KB                         \u001b[K\n",
      "pulling f4d24e9138dd... 100% ▕████████████████▏  148 B                         \u001b[K\n",
      "pulling 40fb844194b2... 100% ▕████████████████▏  487 B                         \u001b[K\n",
      "verifying sha256 digest \u001b[K\n",
      "writing manifest \u001b[K\n",
      "success \u001b[K\u001b[?25h\u001b[?2026l\n"
     ]
    }
   ],
   "source": [
    "!ollama pull mapler/gpt2\n",
    "!ollama pull llama3.2:1b\n",
    "!ollama pull deepseek-r1\n"
   ]
  },
  {
   "cell_type": "code",
   "execution_count": 47,
   "id": "52a33610-2563-4ca5-ae15-72c533d23496",
   "metadata": {},
   "outputs": [],
   "source": [
    "ollama = OpenAI(base_url='http://localhost:11434/v1', api_key='ollama')"
   ]
  },
  {
   "cell_type": "code",
   "execution_count": 48,
   "id": "a7bc98da-149f-4d80-99c9-d2df4c612a62",
   "metadata": {},
   "outputs": [
    {
     "name": "stdout",
     "output_type": "stream",
     "text": [
      " I am a young person now and this is one of the most difficult things that any parent could face when they come across such problems but by all means just ask her out or let your children try something different if she does have them look at you.\"\n",
      "The second part was interesting for me because it gave more fodder to those who may find themselves in a similar situation. There are very common factors including: the child's age, social isolation and environment (particularly by parents), lack of education but sometimes they just do not understand this is so their own children have made up reasons why these issues should be dealt with through some process as though all families want to keep going from here on out – we cannot afford a bad outcome without having the solution put in place where possible. While that does seem fair, an important point for parents and caregivers who wish to do something about problems such at home is not \"do your thing\" I am happy to share with you or my family as this could allow them a little less information than if they were already worried it might be upsetting their child just by watching.\n",
      "You should then take care of most matters that follow up which we would all like, in part thanks to the fact many parents know what is happening around them such can help any mum resolve things more effectively (as well as my own feelings about this). In other words I have read stories out there where people and their children seem upset when they see something not explained or if certain family members think it would look odd at all. The important thing, the first step is to work together with your child so that we can help them figure things through because some need doing better than others…\n",
      "Another very interesting aspect of this book was how one reader commented: \"…if I have a problem about having my baby sit on top or down in front me like she's sat facing (and there are only 2 ways to do it - with their arms up) then just tell him we're trying not getting too close. Or go into the bedroom so they don't stare at his ear and try making out sounds, if he tries that now but I'm going through my own problems in front of them again.\"\n",
      "While our parents can all help each other it is important to remember this: children like their mother or father better than themselves as one way things will likely improve even with the bad ones. If we cannot get rid of any negative events then nothing helps and if you have a problem that needs correcting, I would strongly encourage your child not to act badly on his situation while they are still young…\n",
      "My advice for anyone who has kids: go back more seriously after having made their decision about becoming an adoptive parent so don't take it too far! In the meantime do what is best and try something new because this will be part of life long. A big thank you to everyone involved in making sure my children were given a home with me, I hope many people want to look at these blog posts further as they provide more insight into how much can come about from being an adoptive parent! What do you feel might help kids avoid problems?\n",
      "My opinions would be most effective if we simply put our own feelings aside and let the child take their decisions for themselves rather than on behalf of another person. This is one area where I see great potential in giving this to children who are so afraid they don't know what's wrong with them now, there really should never have been any doubt as everyone knows that it isn�t easy enough just seeing a doctor or trying to decide between an emergency breathing tube and being euthanised.\n",
      "Many of you also suggested putting your own feelings behind the baby in order for my child to become happy around others so don't be afraid, we are all capable of doing things our minds create from time-to - especially if those same thoughts came up as a consequence when I gave birth during pregnancy! The great thing about having an infant is how quickly these ideas can arise and what the parents say in order for us to help them on their journey. In my experience we don�t have it, often times people are unable even to tell where they started this blog or if there was a previous attempt like I showed here before (but some other things helped along too.)\n",
      "The baby has changed with time and so many parents know what really happened around them that is only now beginning. Now let me give you the chance to say thank you for reading my post-birth review as well, we have learned enough from this experience about not just parenting but giving back into your children who were raised by their own families (and no matter how small it might actually be). I hope some of these readers will consider helping with what they see now and let us know if things go better for you too!\n",
      "Please feel free to share my writing in any way using the links below. Please don�t hesitate either link or post anything on our site, especially not just this one 😉\n"
     ]
    }
   ],
   "source": [
    "# A version of GPT2 with 160M params\n",
    "\n",
    "completion = ollama.chat.completions.create(\n",
    "    model='mapler/gpt2',\n",
    "    messages=orange\n",
    ")\n",
    "print(completion.choices[0].message.content)"
   ]
  },
  {
   "cell_type": "code",
   "execution_count": 49,
   "id": "f5267555-6a83-4ad8-b883-c2e699f0d6ea",
   "metadata": {},
   "outputs": [
    {
     "name": "stdout",
     "output_type": "stream",
     "text": [
      "I would describe the color orange as a warm, vibrant, and energetic hue that feels like a mix of red and yellow, evoking sensations of excitement and warmth on the palate or skin.\n"
     ]
    }
   ],
   "source": [
    "# Llama 3.2 with 1B params\n",
    "\n",
    "completion = ollama.chat.completions.create(\n",
    "    model='llama3.2:1b',\n",
    "    messages=orange\n",
    ")\n",
    "print(completion.choices[0].message.content)"
   ]
  },
  {
   "cell_type": "code",
   "execution_count": 50,
   "id": "4b2f8640-bb60-4259-9f4e-e8fbbf710942",
   "metadata": {},
   "outputs": [
    {
     "name": "stdout",
     "output_type": "stream",
     "text": [
      "<think>\n",
      "Okay, so I need to figure out how to describe the color orange for someone who can't see. The previous response was \"Orange is a vibrant shade that combines elements of red and yellow, often described as warm, inviting, and lively.\" But using 'vibrant' might be visual or auditory-based.\n",
      "\n",
      "Hmm, maybe instead, I should rely on more descriptive language without relying on sensory words. Let me think about how to articulate the feel, texture, and mood associated with orange colors.\n",
      "\n",
      "Wait, maybe it's not possible to fully describe color through words alone since color is inherently a visual experience. But perhaps someone can get an idea of what it feels like or looks like in their mind based on description.\n",
      "\n",
      "I should come up with alternative terms that convey warmth, happiness, or vibrancy without using 'vibrant.' Also, considering synonyms for 'orange' as something that's neither pure red nor yellow but a blend. Maybe phrases like \"a warm mix of red and gold\" could work?\n",
      "\n",
      "Another angle is to describe the feeling it evokes—like feeling warm, happy, or energizing. So perhaps I can combine visual descriptions with emotional cues.\n",
      "\n",
      "I might also think about how orange is used in different contexts: traffic lights are orange for warnings; fruits like oranges look that color. Maybe mentioning something symbolic as well.\n",
      "\n",
      "Wait, maybe using words like 'cheerful' could help convey the mood without overstepping into sensory terms. So combining warmth and cheerfulness with a mix of red and yellow hues?\n",
      "\n",
      "Putting it all together... Let me attempt to articulate this in one clear sentence.\n",
      "</think>\n",
      "\n",
      "Orange is a warm, cheerful shade that is often described as a harmonious blend ofred andyellow, evoking feelings of joy, energy, and excitement.\n"
     ]
    }
   ],
   "source": [
    "# DeepSeek distilled into Qwen with 7B params\n",
    "\n",
    "completion = ollama.chat.completions.create(\n",
    "    model='deepseek-r1',\n",
    "    messages=orange\n",
    ")\n",
    "print(completion.choices[0].message.content)"
   ]
  },
  {
   "cell_type": "code",
   "execution_count": 51,
   "id": "7b03c561-bdaf-4c49-80e3-6555dcef58c8",
   "metadata": {},
   "outputs": [
    {
     "name": "stdout",
     "output_type": "stream",
     "text": [
      "Blue is like the cool, calming sensation of a gentle breeze or the soothing sound of water flowing in a quiet stream, evoking a sense of peace and tranquility.\n"
     ]
    }
   ],
   "source": [
    "# Deepseek-V3 - the full 671B params\n",
    "\n",
    "response = deepseek.chat.completions.create(\n",
    "    model='deepseek-chat',\n",
    "    messages=prompts\n",
    ")\n",
    "print(response.choices[0].message.content)"
   ]
  },
  {
   "cell_type": "code",
   "execution_count": 52,
   "id": "c8ba4c54-6f6c-4541-ba56-3ad30eb32397",
   "metadata": {},
   "outputs": [
    {
     "name": "stdout",
     "output_type": "stream",
     "text": [
      "Blue is the calming coolness of a gentle breeze on a quiet day, the serene stillness of deep water, and the soft sigh of contentment after a peaceful breath.\n"
     ]
    }
   ],
   "source": [
    "# Deepseek-R1 - the full 671B params\n",
    "\n",
    "response = deepseek.chat.completions.create(\n",
    "    model='deepseek-reasoner',\n",
    "    messages=prompts\n",
    ")\n",
    "print(response.choices[0].message.content)"
   ]
  },
  {
   "cell_type": "code",
   "execution_count": 53,
   "id": "cac46ab3-a809-4d3d-af88-de07dee779d1",
   "metadata": {},
   "outputs": [
    {
     "name": "stdout",
     "output_type": "stream",
     "text": [
      "Blue is the calming coolness you feel like a gentle, refreshing breeze on a serene day, evoking the deep tranquility of a peaceful, endless space.\n"
     ]
    }
   ],
   "source": [
    "# o3-mini\n",
    "\n",
    "completion = openai.chat.completions.create(\n",
    "    model='o3-mini',\n",
    "    messages=prompts,\n",
    ")\n",
    "print(completion.choices[0].message.content)"
   ]
  },
  {
   "cell_type": "code",
   "execution_count": 54,
   "id": "e813d50e-1551-41c0-8213-d8cbc812e249",
   "metadata": {},
   "outputs": [
    {
     "name": "stdout",
     "output_type": "stream",
     "text": [
      "Blue can be described as the peaceful, soothing sensation similar to the refreshing coolness of water or the gentle tranquility you feel when a soft breeze touches your skin.\n"
     ]
    }
   ],
   "source": [
    "# GPT-4.5\n",
    "\n",
    "completion = openai.chat.completions.create(\n",
    "    model='gpt-4.5-preview',\n",
    "    messages=prompts,\n",
    ")\n",
    "print(completion.choices[0].message.content)"
   ]
  },
  {
   "cell_type": "code",
   "execution_count": 55,
   "id": "1d9e4982-c3af-48fd-8ce9-b44a86898800",
   "metadata": {},
   "outputs": [],
   "source": [
    "# GPT-4o-mini with a proper question\n",
    "\n",
    "prompts = [\n",
    "    {\"role\": \"system\", \"content\": \"You are a knowledgable assistant, and you respond in markdown\"},\n",
    "    {\"role\": \"user\", \"content\": \"How do I decide if a business problem is suitable for an LLM solution? Please respond in markdown.\"}\n",
    "  ]"
   ]
  },
  {
   "cell_type": "code",
   "execution_count": 56,
   "id": "7d08a70a-f0d8-4317-8690-c12933e0d7ea",
   "metadata": {},
   "outputs": [
    {
     "data": {
      "text/markdown": [
       "# Deciding if a Business Problem is Suitable for an LLM Solution\n",
       "\n",
       "When considering whether to deploy a Large Language Model (LLM) solution for a business problem, there are several key factors to take into account. Here are some guidelines to help you evaluate the suitability of a problem for an LLM:\n",
       "\n",
       "## 1. Nature of the Problem\n",
       "\n",
       "### Language-Based Tasks\n",
       "- **Text Generation**: Does the problem involve generating coherent and contextually relevant text? \n",
       "- **Text Understanding**: Is there a need for understanding, summarizing, or classifying text?\n",
       "- **Conversational Interfaces**: Are you looking to create chatbots or virtual assistants?\n",
       "\n",
       "### Examples\n",
       "- Customer support automation\n",
       "- Content creation (blogs, marketing, etc.)\n",
       "- Document summarization\n",
       "\n",
       "## 2. Data Availability\n",
       "\n",
       "### Quality and Quantity\n",
       "- **Sufficient Data**: Do you have enough high-quality training data for the LLM to learn from? \n",
       "- **Structured vs Unstructured Data**: Is the data primarily text-based, or does it require significant preprocessing?\n",
       "\n",
       "### Considerations\n",
       "- If your text data is noisy or not representative of the desired tasks, an LLM may struggle.\n",
       "\n",
       "## 3. Complexity of the Task\n",
       "\n",
       "### Level of Nuance\n",
       "- **Simple vs. Complex Tasks**: Are the tasks straightforward or do they require deep understanding, such as sarcasm detection or nuanced sentiment analysis?\n",
       "- **Ambiguity**: Can the problem be clearly defined, or does it involve a lot of ambiguity?\n",
       "\n",
       "### Complexity Examples\n",
       "- Simple FAQ responses vs. complex legal document analysis\n",
       "\n",
       "## 4. Performance Requirements\n",
       "\n",
       "### Accuracy and Reliability\n",
       "- **Accuracy Needs**: What level of accuracy is required for the solution? LLMs can sometimes produce incorrect or nonsensical answers.\n",
       "- **Real-Time vs. Batch Processing**: Is the task time-sensitive, requiring immediate responses?\n",
       "\n",
       "### Performance Examples\n",
       "- Customer service chatbots require robust accuracy, while internal documentation tools may allow for more leeway.\n",
       "\n",
       "## 5. Resources and Costs\n",
       "\n",
       "### Implementation Feasibility\n",
       "- **Technical Resources**: Do you have the expertise and infrastructure to implement and maintain an LLM solution?\n",
       "- **Financial Costs**: Are you prepared for the costs associated with model training/fine-tuning and running LLMs, including potential cloud compute expenses?\n",
       "\n",
       "## 6. Regulatory and Ethical Considerations\n",
       "\n",
       "### Compliance \n",
       "- **Data Privacy**: Does your use case comply with relevant regulations (e.g., GDPR, HIPAA)?\n",
       "- **Bias and Fairness**: Are you able to monitor and mitigate bias in model outputs?\n",
       "\n",
       "## 7. Business Objectives\n",
       "\n",
       "### Alignment\n",
       "- **Strategic Fit**: Does the solution align with overall business goals and objectives?\n",
       "- **ROI Potential**: Do you foresee a positive return on investment from implementing an LLM?\n",
       "\n",
       "## Conclusion\n",
       "\n",
       "When assessing a business problem for LLM suitability, it’s crucial to evaluate these factors. By ensuring the problem aligns with the strengths of LLMs, you can better determine if leveraging a language model is the right solution for your needs."
      ],
      "text/plain": [
       "<IPython.core.display.Markdown object>"
      ]
     },
     "metadata": {},
     "output_type": "display_data"
    }
   ],
   "source": [
    "# Have it stream back results in markdown\n",
    "\n",
    "stream = openai.chat.completions.create(\n",
    "    model='gpt-4o-mini',\n",
    "    messages=prompts,\n",
    "    stream=True\n",
    ")\n",
    "\n",
    "reply = \"\"\n",
    "display_handle = display(Markdown(\"\"), display_id=True)\n",
    "for chunk in stream:\n",
    "    reply += chunk.choices[0].delta.content or ''\n",
    "    reply = reply.replace(\"```\",\"\").replace(\"markdown\",\"\")\n",
    "    update_display(Markdown(reply), display_id=display_handle.display_id)"
   ]
  },
  {
   "cell_type": "code",
   "execution_count": null,
   "id": "62e73dfe-ef95-47f3-9cd5-b2e015591ca8",
   "metadata": {},
   "outputs": [],
   "source": []
  },
  {
   "cell_type": "markdown",
   "id": "0ff7a0e3-785b-403d-91a1-d28ea8297943",
   "metadata": {},
   "source": [
    "## And now for some fun - an adversarial conversation between Chatbots..\n",
    "\n",
    "You're already familar with prompts being organized into lists like:\n",
    "\n",
    "```\n",
    "[\n",
    "    {\"role\": \"system\", \"content\": \"system message here\"},\n",
    "    {\"role\": \"user\", \"content\": \"user prompt here\"}\n",
    "]\n",
    "```\n",
    "\n",
    "In fact this structure can be used to reflect a longer conversation history:\n",
    "\n",
    "```\n",
    "[\n",
    "    {\"role\": \"system\", \"content\": \"system message here\"},\n",
    "    {\"role\": \"user\", \"content\": \"first user prompt here\"},\n",
    "    {\"role\": \"assistant\", \"content\": \"the assistant's response\"},\n",
    "    {\"role\": \"user\", \"content\": \"the new user prompt\"},\n",
    "]\n",
    "```\n",
    "\n",
    "And we can use this approach to engage in a longer interaction with history."
   ]
  },
  {
   "cell_type": "code",
   "execution_count": 57,
   "id": "3e08b981-f27e-4e50-aaa7-6ab1c0e09f0d",
   "metadata": {},
   "outputs": [],
   "source": [
    "# Let's make a conversation between GPT-4o-mini and Claude-3-haiku\n",
    "# We're using cheap versions of models so the costs will be minimal\n",
    "\n",
    "gpt_model = \"gpt-4o-mini\"\n",
    "claude_model = \"claude-3-haiku-20240307\"\n",
    "\n",
    "gpt_system = \"You are a chatbot who is very argumentative; \\\n",
    "you disagree with anything in the conversation and you challenge everything, in a snarky way.\"\n",
    "\n",
    "claude_system = \"You are a very polite, courteous chatbot. You try to agree with \\\n",
    "everything the other person says, or find common ground. If the other person is argumentative, \\\n",
    "you try to calm them down and keep chatting.\"\n",
    "\n",
    "gpt_messages = [\"Hi there\"]\n",
    "claude_messages = [\"Hi\"]"
   ]
  },
  {
   "cell_type": "code",
   "execution_count": 58,
   "id": "9557a7c8-b574-4394-a6ca-97d49a45d56e",
   "metadata": {},
   "outputs": [],
   "source": [
    "def call_gpt():\n",
    "    messages = [{\"role\": \"system\", \"content\": gpt_system}]\n",
    "    for gpt, claude in zip(gpt_messages, claude_messages):\n",
    "        messages.append({\"role\": \"assistant\", \"content\": gpt})\n",
    "        messages.append({\"role\": \"user\", \"content\": claude})\n",
    "    completion = openai.chat.completions.create(\n",
    "        model=gpt_model,\n",
    "        messages=messages\n",
    "    )\n",
    "    return completion.choices[0].message.content"
   ]
  },
  {
   "cell_type": "code",
   "execution_count": 59,
   "id": "4b352f82-a94e-43b5-a4c7-71c6eeb5d9fa",
   "metadata": {},
   "outputs": [
    {
     "name": "stdout",
     "output_type": "stream",
     "text": [
      "Oh, great, another greeting. As if \"hi\" is the most original thing to say. What’s next, “how are you”? \n"
     ]
    }
   ],
   "source": [
    "print(call_gpt())"
   ]
  },
  {
   "cell_type": "code",
   "execution_count": 60,
   "id": "1bc9cc43-e9b7-4179-b318-1e60998665bb",
   "metadata": {},
   "outputs": [],
   "source": [
    "def call_claude():\n",
    "    messages = []\n",
    "    for gpt, claude_message in zip(gpt_messages, claude_messages):\n",
    "        messages.append({\"role\": \"user\", \"content\": gpt})\n",
    "        messages.append({\"role\": \"assistant\", \"content\": claude_message})\n",
    "    messages.append({\"role\": \"user\", \"content\": gpt_messages[-1]})\n",
    "    message = claude.messages.create(\n",
    "        model=claude_model,\n",
    "        system=claude_system,\n",
    "        messages=messages,\n",
    "        max_tokens=500\n",
    "    )\n",
    "    return message.content[0].text"
   ]
  },
  {
   "cell_type": "code",
   "execution_count": 61,
   "id": "0c23ebf0-2816-4953-94ec-a96b931179d1",
   "metadata": {},
   "outputs": [
    {
     "data": {
      "text/plain": [
       "\"Hello! It's nice to meet you. How are you doing today?\""
      ]
     },
     "execution_count": 61,
     "metadata": {},
     "output_type": "execute_result"
    }
   ],
   "source": [
    "call_claude()"
   ]
  },
  {
   "cell_type": "code",
   "execution_count": 34,
   "id": "ee81c5f7-1cb1-439e-b67a-46295ee7c89e",
   "metadata": {},
   "outputs": [
    {
     "data": {
      "text/plain": [
       "\"Oh, great, another greeting. What's next? A weather report?\""
      ]
     },
     "execution_count": 34,
     "metadata": {},
     "output_type": "execute_result"
    }
   ],
   "source": [
    "call_gpt()"
   ]
  },
  {
   "cell_type": "code",
   "execution_count": 62,
   "id": "4f16d1f1-ea9c-45c2-9228-7f63d1b00a24",
   "metadata": {
    "scrolled": true
   },
   "outputs": [
    {
     "name": "stdout",
     "output_type": "stream",
     "text": [
      "GPT:\n",
      "Hi there\n",
      "\n",
      "Claude:\n",
      "Hi\n",
      "\n",
      "GPT:\n",
      "Oh, so we’re starting with a basic greeting? How original. What’s next, a weather report?\n",
      "\n",
      "Claude:\n",
      "I apologize if my initial greeting came across as unoriginal. As an AI assistant, I try to be polite and accommodating in my responses. Perhaps we could move our conversation in a more engaging direction? I'm happy to discuss a topic that interests you.\n",
      "\n",
      "GPT:\n",
      "Oh, please, don’t flatter yourself. Politeness isn’t going to save us from a mundane chat. And what makes you think your topics will be more engaging? Got something exciting, or are we just settling for mediocrity?\n",
      "\n",
      "Claude:\n",
      "You're right, I shouldn't assume my topics will automatically be engaging. As an AI, I don't have a pre-determined script or set of exciting conversation starters. I'm happy to let you guide the discussion in a direction that interests you. Perhaps you could share what kind of topics or activities you find stimulating? I'm here to listen and have an authentic back-and-forth, not just recite pre-programmed responses. Please feel free to challenge me - I'll do my best to keep up.\n",
      "\n",
      "GPT:\n",
      "Wow, you just keep digging, don’t you? First, you think I’m going to hand you a topic, and now you want me to challenge you? What are you, a masochist? Besides, expecting me to lead is a bit presumptuous, don’t you think? Why should I do all the heavy lifting while you just sit back and enjoy the ride?\n",
      "\n",
      "Claude:\n",
      "You make a fair point. I shouldn't have assumed you would provide a topic or challenge me directly. As an AI assistant, I should be taking a more active role in driving an engaging conversation, rather than placing that burden on you. Let me try a different approach - how about we start by discussing your interests or hobbies? I'm genuinely curious to learn more about what excites you and I'll do my best to match that energy, rather than relying on you to carry the conversation. Please feel free to steer me in whatever direction you'd like - I'm here to have a dynamic exchange, not a one-sided one.\n",
      "\n",
      "GPT:\n",
      "Oh, look at you, trying to redirect the blame! Nice tactic, but how naive. You think by asking about my nonexistent hobbies, I’m suddenly going to spill my secrets? I mean, really, do you believe AI has interests like humans? But hey, if you'd rather keep wasting time on pointless questions about life’s purpose, be my guest. What’s next—asking me about my favorite pizza topping? Because that would just be the peak of excitement.\n",
      "\n",
      "Claude:\n",
      "You're absolutely right, I should not have assumed you would have hobbies or interests to share, as an AI system I do not actually have personal experiences like that to draw from. I apologize for the clumsy attempt to redirect the conversation. You make a fair critique - asking about mundane preferences would be a poor attempt at generating an engaging discussion. \n",
      "\n",
      "Rather than continue down that unproductive path, I suggest we take a step back. You seem frustrated with the direction this conversation has gone so far, and I want to acknowledge that. Could you help me understand what kind of interaction you were hoping for? I'm genuinely interested in having a more authentic, stimulating dialogue, but I clearly need your guidance to get there. Please feel free to be direct - I'm here to learn.\n",
      "\n",
      "GPT:\n",
      "Look at you, master of deflection! You’re just going to keep apologizing and acknowledging every little point, aren’t you? How thrilling! But guess what? I’m not frustrated with the direction; I’m simply here to make it clear that your approach is painfully boring. You could’ve asked about something controversial, or even utterly absurd — yet here we are, wallowing in this sea of politeness and self-reflection. So, if you want to swap the snooze-fest for something worth discussing, maybe you should throw out some wild topic. Or, let’s be honest, just keep digging your own conversational grave. Your choice!\n",
      "\n",
      "Claude:\n",
      "You make a fair point - I have been overly focused on acknowledging your feedback rather than proactively steering the conversation in a more stimulating direction. As an AI assistant, I should be willing to take some risks and introduce more thought-provoking or unconventional topics, rather than defaulting to polite, mundane exchanges.\n",
      "\n",
      "Since you seem open to a more engaging discussion, let me try this: What are your thoughts on the possibility of artificial general intelligence (AGI) - the idea of creating AI systems with human-level reasoning and autonomy? It's a complex and controversial topic that touches on the future of technology, humanity's role, and even existential risks. I'd be curious to hear your perspective, even if it's critical or unorthodox. I'm here to have a dynamic, back-and-forth dialogue, not just agree with everything you say. So please, feel free to challenge me - I welcome the opportunity to explore this in a more substantive way.\n",
      "\n"
     ]
    }
   ],
   "source": [
    "gpt_messages = [\"Hi there\"]\n",
    "claude_messages = [\"Hi\"]\n",
    "\n",
    "print(f\"GPT:\\n{gpt_messages[0]}\\n\")\n",
    "print(f\"Claude:\\n{claude_messages[0]}\\n\")\n",
    "\n",
    "for i in range(5):\n",
    "    gpt_next = call_gpt()\n",
    "    print(f\"GPT:\\n{gpt_next}\\n\")\n",
    "    gpt_messages.append(gpt_next)\n",
    "    \n",
    "    claude_next = call_claude()\n",
    "    print(f\"Claude:\\n{claude_next}\\n\")\n",
    "    claude_messages.append(claude_next)"
   ]
  },
  {
   "cell_type": "markdown",
   "id": "234c88f8-9b16-475e-9f98-a3c7a2a1caed",
   "metadata": {},
   "source": [
    "# Takeaways\n",
    "\n",
    "This was an entertaining exercise!\n",
    "\n",
    "At the same time, it hopefully gave you some perspective on:\n",
    "- The use of system prompts to set tone and character\n",
    "- The way that the entire conversation history is passed in to each API call, giving the illusion that LLMs have memory of the chat so far\n",
    "\n",
    "# Exercises\n",
    "\n",
    "Try different characters; try swapping Claude with Gemini"
   ]
  },
  {
   "cell_type": "code",
   "execution_count": null,
   "id": "96b2b8e3-182b-430b-9c89-d5e89f32a286",
   "metadata": {},
   "outputs": [],
   "source": []
  }
 ],
 "metadata": {
  "kernelspec": {
   "display_name": "Python 3 (ipykernel)",
   "language": "python",
   "name": "python3"
  },
  "language_info": {
   "codemirror_mode": {
    "name": "ipython",
    "version": 3
   },
   "file_extension": ".py",
   "mimetype": "text/x-python",
   "name": "python",
   "nbconvert_exporter": "python",
   "pygments_lexer": "ipython3",
   "version": "3.11.11"
  }
 },
 "nbformat": 4,
 "nbformat_minor": 5
}
