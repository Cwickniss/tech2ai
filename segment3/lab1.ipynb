{
 "cells": [
  {
   "cell_type": "markdown",
   "id": "b49a602f-1d11-4369-9164-f5364296bcf0",
   "metadata": {},
   "source": [
    "# Segment 3 Lab\n",
    "\n",
    "## Let's apply a Neural Network to the product price example from Segment 2"
   ]
  },
  {
   "cell_type": "code",
   "execution_count": null,
   "id": "24c8d95d-8596-481c-9d4b-61cc810c65bf",
   "metadata": {},
   "outputs": [],
   "source": [
    "# imports - now including pytorch\n",
    "\n",
    "import os\n",
    "import random\n",
    "from dotenv import load_dotenv\n",
    "from huggingface_hub import login\n",
    "from datasets import load_dataset, Dataset, DatasetDict\n",
    "from items import Item\n",
    "import matplotlib.pyplot as plt\n",
    "from collections import Counter, defaultdict\n",
    "import numpy as np\n",
    "from tqdm import tqdm\n",
    "import pickle\n",
    "import json\n",
    "from sklearn.feature_extraction.text import CountVectorizer\n",
    "from testing import Tester\n",
    "import torch\n",
    "import torch.nn as nn\n",
    "import torch.optim as optim\n",
    "from torch.utils.data import DataLoader, TensorDataset\n",
    "from torchviz import make_dot\n",
    "from IPython.display import display, SVG\n",
    "from sklearn.model_selection import train_test_split"
   ]
  },
  {
   "cell_type": "code",
   "execution_count": null,
   "id": "2d8d8ba4-7e34-41ea-87f3-92865067b4c7",
   "metadata": {},
   "outputs": [],
   "source": [
    "# Load in dataset\n",
    "# Sidenote: this is actually a larger dataset than before (about twice as large)\n",
    "\n",
    "with open('../train.pkl', 'rb') as file:\n",
    "    train = pickle.load(file)\n",
    "\n",
    "with open('../test.pkl', 'rb') as file:\n",
    "    test = pickle.load(file)"
   ]
  },
  {
   "cell_type": "code",
   "execution_count": null,
   "id": "e50e233e-2c41-4a9a-99e0-c81c07597e0a",
   "metadata": {},
   "outputs": [],
   "source": [
    "len(train)"
   ]
  },
  {
   "cell_type": "code",
   "execution_count": null,
   "id": "19d2c157-ec61-420b-ba6d-f2fa5f130a94",
   "metadata": {},
   "outputs": [],
   "source": [
    "# For the next few models, we prepare our documents and prices\n",
    "# Note that we use the test prompt for the documents, otherwise we'll reveal the answer!!\n",
    "\n",
    "def description(item):\n",
    "    prompt = item.test_prompt()\n",
    "    return prompt.replace('How much does this cost to the nearest dollar?\\n\\n', '').replace('\\n\\nPrice is $', '')\n",
    "\n",
    "y = np.array([float(item.price) for item in train])\n",
    "documents = [description(item) for item in train]"
   ]
  },
  {
   "cell_type": "code",
   "execution_count": null,
   "id": "3c0ccb92-d16f-4377-ba08-73ff0b2816fe",
   "metadata": {},
   "outputs": [],
   "source": [
    "# Use the CountVectorizer for a Bag of Words model\n",
    "\n",
    "np.random.seed(42)\n",
    "vectorizer = CountVectorizer(max_features=1000, stop_words='english')\n",
    "X = vectorizer.fit_transform(documents)"
   ]
  },
  {
   "cell_type": "code",
   "execution_count": null,
   "id": "d29c6d50-9764-4461-8484-ae9fe6f0cb35",
   "metadata": {},
   "outputs": [],
   "source": [
    "selected_features = vectorizer.get_feature_names_out()\n",
    "print(f\"Number of selected features: {len(selected_features)}\")\n",
    "print(\"Selected features:\", selected_features)"
   ]
  },
  {
   "cell_type": "code",
   "execution_count": null,
   "id": "b9e4b558-8c0d-4632-a248-8daa09a47195",
   "metadata": {},
   "outputs": [],
   "source": [
    "# Define the neural network\n",
    "\n",
    "class NeuralNetwork(nn.Module):\n",
    "    def __init__(self, input_size):\n",
    "        super(NeuralNetwork, self).__init__()\n",
    "        self.layer1 = nn.Linear(input_size, 64)\n",
    "        self.layer2 = nn.Linear(64, 32)\n",
    "        self.layer3 = nn.Linear(32, 32)\n",
    "        self.layer4 = nn.Linear(32, 32)\n",
    "        self.layer5 = nn.Linear(32, 1)\n",
    "        self.relu = nn.ReLU()\n",
    "\n",
    "    def forward(self, x):\n",
    "        x = self.relu(self.layer1(x))\n",
    "        x = self.relu(self.layer2(x))\n",
    "        x = self.relu(self.layer3(x))\n",
    "        x = self.relu(self.layer4(x))\n",
    "        x = self.layer5(x)\n",
    "        return x"
   ]
  },
  {
   "cell_type": "code",
   "execution_count": null,
   "id": "fcfd62b2-0992-4327-a839-1f6a460dcad4",
   "metadata": {},
   "outputs": [],
   "source": [
    "NeuralNetwork"
   ]
  },
  {
   "cell_type": "code",
   "execution_count": null,
   "id": "5c883d24-d991-4f3c-b848-430d5dd1a02a",
   "metadata": {},
   "outputs": [],
   "source": [
    "# Convert data to PyTorch tensors\n",
    "X_train_tensor = torch.FloatTensor(X.toarray())\n",
    "y_train_tensor = torch.FloatTensor(y).unsqueeze(1)\n",
    "\n",
    "# Split the data into training and validation sets\n",
    "X_train, X_val, y_train, y_val = train_test_split(X_train_tensor, y_train_tensor, test_size=0.05, random_state=42)\n",
    "\n",
    "# Create the loader\n",
    "train_dataset = TensorDataset(X_train, y_train)\n",
    "train_loader = DataLoader(train_dataset, batch_size=32, shuffle=True)\n",
    "\n",
    "# Initialize the model\n",
    "input_size = X_train_tensor.shape[1]\n",
    "model = NeuralNetwork(input_size)\n",
    "\n",
    "# Create a dummy input and visualize the network\n",
    "x = torch.randn(1, input_size)\n",
    "dot = make_dot(model(x), params=dict(model.named_parameters()))\n",
    "display(SVG(dot.pipe(format='svg')))\n"
   ]
  },
  {
   "cell_type": "code",
   "execution_count": null,
   "id": "93d20c1c-43ab-4989-90ad-11911ce865c4",
   "metadata": {},
   "outputs": [],
   "source": [
    "# Define loss function and optimizer\n",
    "criterion = nn.MSELoss()\n",
    "optimizer = optim.Adam(model.parameters(), lr=0.001)\n",
    "\n",
    "# Training loop\n",
    "num_epochs = 10\n",
    "for epoch in range(num_epochs):\n",
    "    model.train()\n",
    "    for batch_X, batch_y in tqdm(train_loader):\n",
    "        optimizer.zero_grad()\n",
    "        outputs = model(batch_X)\n",
    "        loss = criterion(outputs, batch_y)\n",
    "        loss.backward()\n",
    "        optimizer.step()\n",
    "\n",
    "    model.eval()\n",
    "    with torch.no_grad():\n",
    "        val_outputs = model(X_val)\n",
    "        val_loss = criterion(val_outputs, y_val)\n",
    "\n",
    "    print(f'Epoch [{epoch+1}/{num_epochs}], Train Loss: {loss.item():.4f}, Val Loss: {val_loss.item():.4f}')\n"
   ]
  },
  {
   "cell_type": "code",
   "execution_count": null,
   "id": "46bb8b44-8826-4b8b-9b42-584213e61ffd",
   "metadata": {},
   "outputs": [],
   "source": [
    "def neural_network(item):\n",
    "    model.eval()\n",
    "    with torch.no_grad():\n",
    "        doc = description(item)\n",
    "        vector = vectorizer.transform([doc])\n",
    "        vector = torch.FloatTensor(vector.toarray())\n",
    "        result = model(vector)[0].item()\n",
    "    return max(0, result)\n",
    "    "
   ]
  },
  {
   "cell_type": "code",
   "execution_count": null,
   "id": "bdb3493e-7c5d-4560-abf5-606b7fb2fb68",
   "metadata": {},
   "outputs": [],
   "source": [
    "neural_network(test[0])"
   ]
  },
  {
   "cell_type": "code",
   "execution_count": null,
   "id": "95cae616-4037-4b56-bda3-70ada41f09ea",
   "metadata": {},
   "outputs": [],
   "source": [
    "test[0].price"
   ]
  },
  {
   "cell_type": "code",
   "execution_count": null,
   "id": "eb4cf83b-bef4-43fb-ba2e-e387ec7f3569",
   "metadata": {},
   "outputs": [],
   "source": [
    "Tester.test(neural_network, test)"
   ]
  },
  {
   "cell_type": "code",
   "execution_count": null,
   "id": "438d09db-6165-4774-add1-c6a59a83dbfd",
   "metadata": {},
   "outputs": [],
   "source": []
  }
 ],
 "metadata": {
  "kernelspec": {
   "display_name": "Python 3 (ipykernel)",
   "language": "python",
   "name": "python3"
  },
  "language_info": {
   "codemirror_mode": {
    "name": "ipython",
    "version": 3
   },
   "file_extension": ".py",
   "mimetype": "text/x-python",
   "name": "python",
   "nbconvert_exporter": "python",
   "pygments_lexer": "ipython3",
   "version": "3.11.10"
  }
 },
 "nbformat": 4,
 "nbformat_minor": 5
}
