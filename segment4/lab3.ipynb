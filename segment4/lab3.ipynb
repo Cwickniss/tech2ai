{
 "cells": [
  {
   "cell_type": "markdown",
   "id": "e426cd04-c053-43e8-b505-63cee7956a53",
   "metadata": {},
   "source": [
    "# Segment 4 Lab 3\n",
    "\n",
    "## Fine-tuned LLM using QLoRA with Llama 3.1 as the base model\n",
    "\n",
    "First, here's a link to Google Colab set up for training with QLoRA\n",
    "\n",
    "https://colab.research.google.com/drive/1IqxWtUzuV5ks2kS1oO4Mge3Mf1o3rhRj\n",
    "\n",
    "And here's a link to Google Colab set up for inference:\n",
    "\n",
    "https://colab.research.google.com/drive/1shI0i5QiMWL8fSmM-VcBI7RT5NjzZJ17\n",
    "\n",
    "Once this is set up, I have this running on Modal\n",
    "\n",
    "If you want to do this too, head over to modal.com to set up your free starter account with free credit"
   ]
  },
  {
   "cell_type": "code",
   "execution_count": null,
   "id": "bc0e1c1c-be6a-4395-bbbd-eeafc9330d7e",
   "metadata": {},
   "outputs": [],
   "source": [
    "# Just one import to start with!!\n",
    "\n",
    "import modal"
   ]
  },
  {
   "cell_type": "markdown",
   "id": "80fe1f83-986d-49ca-a8d6-74c27fe7ef20",
   "metadata": {},
   "source": [
    "During the class I might visit this URL to show the code deployed on Modal:\n",
    "\n",
    "https://modal.com/apps/ed-donner/main/ap-stiZMq9syc9zikKRoLnRor?functionId=fu-LumBocLb9rvkzuIUBQGn42&activeTab=functions"
   ]
  },
  {
   "cell_type": "code",
   "execution_count": null,
   "id": "3c9db702-4337-46ff-a6ba-8e1f213740b9",
   "metadata": {},
   "outputs": [],
   "source": [
    "# For you to experiment after the class: below we set up and deploy our proprietary LLM over modal\n",
    "# Here we execute it directly\n",
    "\n",
    "Pricer = modal.Cls.from_name(\"pricer-service\", \"Pricer\")\n",
    "pricer = Pricer()"
   ]
  },
  {
   "cell_type": "code",
   "execution_count": null,
   "id": "490dadda-7971-4877-af27-cb6c3f539f76",
   "metadata": {},
   "outputs": [],
   "source": [
    "pricer.price.remote(\"Quadcast HyperX condenser mic, connects via usb-c to your computer for crystal clear audio\")"
   ]
  },
  {
   "cell_type": "code",
   "execution_count": null,
   "id": "dcc44afd-07e4-485e-b6d2-f96908a7726e",
   "metadata": {},
   "outputs": [],
   "source": [
    "# Generations of iPad pro\n",
    "\n",
    "ipad1 = pricer.price.remote(\"iPad pro 1st generation\")\n",
    "ipad6 = pricer.price.remote(\"iPad pro 6th generation\")\n",
    "print(f\"iPad Pro Gen1 estimate ${ipad1}, iPad Pro Gen6 estimate ${ipad6}\")"
   ]
  },
  {
   "cell_type": "code",
   "execution_count": null,
   "id": "291dbbe9-06fd-44b8-80f3-4b920c697e88",
   "metadata": {},
   "outputs": [],
   "source": [
    "from items import Item\n",
    "import pickle\n",
    "\n",
    "# Load in the test pickle file\n",
    "\n",
    "with open('../test.pkl', 'rb') as file:\n",
    "    test = pickle.load(file)"
   ]
  },
  {
   "cell_type": "code",
   "execution_count": null,
   "id": "ff3bdb18-ad9e-4bff-81ce-e5cd7334bc1a",
   "metadata": {},
   "outputs": [],
   "source": [
    "def proprietary_llm(item):\n",
    "    return pricer.price.remote(item.text)"
   ]
  },
  {
   "cell_type": "code",
   "execution_count": null,
   "id": "21bfd631-8603-4fda-b9db-1d35791c8f70",
   "metadata": {},
   "outputs": [],
   "source": [
    "proprietary_llm(test[0])"
   ]
  },
  {
   "cell_type": "code",
   "execution_count": null,
   "id": "8a2dc5a0-3b11-4207-89f0-dc60fbd82a42",
   "metadata": {},
   "outputs": [],
   "source": [
    "from testing import Tester\n",
    "Tester.test(proprietary_llm, test)"
   ]
  },
  {
   "cell_type": "code",
   "execution_count": null,
   "id": "3df75fcf-c7fb-4156-a87b-92f2fa61b3c5",
   "metadata": {},
   "outputs": [],
   "source": [
    "import logging\n",
    "root = logging.getLogger()\n",
    "root.setLevel(logging.INFO)"
   ]
  },
  {
   "cell_type": "code",
   "execution_count": null,
   "id": "0f493832-7e63-490a-be6e-6ae6b0a12326",
   "metadata": {},
   "outputs": [],
   "source": [
    "from agents.specialist_agent import SpecialistAgent\n",
    "\n",
    "specialist = SpecialistAgent()\n",
    "specialist.price(\"Quadcast HyperX condenser mic, connects via usb-c to your computer for crystal clear audio\")"
   ]
  },
  {
   "cell_type": "markdown",
   "id": "22e8d804-c027-45fb-8fef-06e7bba6295a",
   "metadata": {},
   "source": [
    "# For you to get this to work yourself\n",
    "\n",
    "## We need to set your HuggingFace Token as a secret in Modal\n",
    "\n",
    "1. Go to modal.com, sign in and go to your dashboard\n",
    "2. Click on Secrets in the nav bar\n",
    "3. Create new secret, click on Hugging Face\n",
    "4. Fill in your HF_TOKEN where it prompts you\n"
   ]
  },
  {
   "cell_type": "code",
   "execution_count": null,
   "id": "5788a3a4-f7a7-4c9f-9c88-55ba1afe0d2e",
   "metadata": {},
   "outputs": [],
   "source": [
    "# First time: uncomment and run the line below\n",
    "# !modal setup"
   ]
  },
  {
   "cell_type": "code",
   "execution_count": null,
   "id": "3ab2471b-1717-4a12-8eb7-ad87f7419e8a",
   "metadata": {},
   "outputs": [],
   "source": [
    "from hello import app, hello"
   ]
  },
  {
   "cell_type": "code",
   "execution_count": null,
   "id": "e24bca24-6597-4614-b05e-c5a1161cc3e7",
   "metadata": {},
   "outputs": [],
   "source": [
    "with app.run(show_progress=False):\n",
    "    reply=hello.local()\n",
    "reply"
   ]
  },
  {
   "cell_type": "code",
   "execution_count": null,
   "id": "e797b6b7-3237-465e-bca6-da1fbdd6ea9a",
   "metadata": {},
   "outputs": [],
   "source": [
    "with app.run(show_progress=False):\n",
    "    reply=hello.remote()\n",
    "reply"
   ]
  },
  {
   "cell_type": "code",
   "execution_count": null,
   "id": "cb8b6c41-8259-4329-b1c4-a1f67d26d1be",
   "metadata": {},
   "outputs": [],
   "source": [
    "from llama import app, generate"
   ]
  },
  {
   "cell_type": "code",
   "execution_count": null,
   "id": "db4a718a-d95d-4f61-9688-c9df21d88fe6",
   "metadata": {},
   "outputs": [],
   "source": [
    "with modal.enable_output():\n",
    "    with app.run():\n",
    "        result=generate.remote(\"Life is a mystery, everyone must stand alone, I hear\")\n",
    "result"
   ]
  },
  {
   "cell_type": "code",
   "execution_count": null,
   "id": "9a9a6844-29ec-4264-8e72-362d976b3968",
   "metadata": {},
   "outputs": [],
   "source": [
    "import modal\n",
    "from pricer_ephemeral import app, price"
   ]
  },
  {
   "cell_type": "code",
   "execution_count": null,
   "id": "50e6cf99-8959-4ae3-ba02-e325cb7fff94",
   "metadata": {},
   "outputs": [],
   "source": [
    "with modal.enable_output():\n",
    "    with app.run():\n",
    "        result=price.remote(\"Quadcast HyperX condenser mic, connects via usb-c to your computer for crystal clear audio\")\n",
    "result"
   ]
  },
  {
   "cell_type": "markdown",
   "id": "04d8747f-8452-4077-8af6-27e03888508a",
   "metadata": {},
   "source": [
    "# For you to explore after the class\n",
    "\n",
    "From a command line, `modal deploy xxx` will deploy your code as a Deployed App\n",
    "\n",
    "This is how you could package your AI service behind an API to be used in a Production System.\n",
    "\n",
    "You can also build REST endpoints easily, although we won't cover that as we'll be calling direct from Python."
   ]
  },
  {
   "cell_type": "code",
   "execution_count": null,
   "id": "7f90d857-2f12-4521-bb90-28efd917f7d1",
   "metadata": {},
   "outputs": [],
   "source": [
    "!modal deploy pricer_service"
   ]
  },
  {
   "cell_type": "code",
   "execution_count": null,
   "id": "1dec70ff-1986-4405-8624-9bbbe0ce1f4a",
   "metadata": {},
   "outputs": [],
   "source": [
    "pricer = modal.Function.lookup(\"pricer-service\", \"price\")"
   ]
  },
  {
   "cell_type": "code",
   "execution_count": null,
   "id": "17776139-0d9e-4ad0-bcd0-82d3a92ca61f",
   "metadata": {},
   "outputs": [],
   "source": [
    "pricer.remote(\"Quadcast HyperX condenser mic, connects via usb-c to your computer for crystal clear audio\")"
   ]
  },
  {
   "cell_type": "code",
   "execution_count": null,
   "id": "f56d1e55-2a03-4ce2-bb47-2ab6b9175a02",
   "metadata": {},
   "outputs": [],
   "source": [
    "!modal deploy pricer_service2"
   ]
  },
  {
   "cell_type": "code",
   "execution_count": null,
   "id": "9e19daeb-1281-484b-9d2f-95cc6fed2622",
   "metadata": {},
   "outputs": [],
   "source": [
    "Pricer = modal.Cls.lookup(\"pricer-service\", \"Pricer\")\n",
    "pricer = Pricer()\n",
    "reply = pricer.price.remote(\"Quadcast HyperX condenser mic, connects via usb-c to your computer for crystal clear audio\")\n",
    "print(reply)"
   ]
  },
  {
   "cell_type": "code",
   "execution_count": null,
   "id": "f5a3181b-1310-4102-8d7d-52caf4c00538",
   "metadata": {},
   "outputs": [],
   "source": []
  }
 ],
 "metadata": {
  "kernelspec": {
   "display_name": "Python 3 (ipykernel)",
   "language": "python",
   "name": "python3"
  },
  "language_info": {
   "codemirror_mode": {
    "name": "ipython",
    "version": 3
   },
   "file_extension": ".py",
   "mimetype": "text/x-python",
   "name": "python",
   "nbconvert_exporter": "python",
   "pygments_lexer": "ipython3",
   "version": "3.11.11"
  }
 },
 "nbformat": 4,
 "nbformat_minor": 5
}
