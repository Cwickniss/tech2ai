{
 "cells": [
  {
   "cell_type": "code",
   "execution_count": 2,
   "id": "f8e4ed48-63a4-45a7-95e3-b18690daf249",
   "metadata": {},
   "outputs": [],
   "source": [
    "# imports\n",
    "\n",
    "import os\n",
    "import random\n",
    "from dotenv import load_dotenv\n",
    "from huggingface_hub import login\n",
    "from datasets import load_dataset, Dataset, DatasetDict\n",
    "from items import Item\n",
    "from loaders import ItemLoader\n",
    "import matplotlib.pyplot as plt\n",
    "from collections import Counter, defaultdict\n",
    "import numpy as np\n",
    "from tqdm import tqdm\n",
    "import pickle\n",
    "import json"
   ]
  },
  {
   "cell_type": "code",
   "execution_count": 3,
   "id": "3c032821-bbbf-43a9-b5fd-93ad684d35b4",
   "metadata": {},
   "outputs": [],
   "source": [
    "# Load in dataset\n",
    "\n",
    "with open('../train.pkl', 'rb') as file:\n",
    "    train = pickle.load(file)\n",
    "\n",
    "with open('../test.pkl', 'rb') as file:\n",
    "    test = pickle.load(file)"
   ]
  },
  {
   "cell_type": "code",
   "execution_count": 4,
   "id": "552994c1-b0b7-436b-93f9-d5167ff74bda",
   "metadata": {},
   "outputs": [
    {
     "data": {
      "text/plain": [
       "['PREFIX',\n",
       " 'QUESTION',\n",
       " 'REMOVALS',\n",
       " '__annotations__',\n",
       " '__class__',\n",
       " '__delattr__',\n",
       " '__dict__',\n",
       " '__dir__',\n",
       " '__doc__',\n",
       " '__eq__',\n",
       " '__format__',\n",
       " '__ge__',\n",
       " '__getattribute__',\n",
       " '__getstate__',\n",
       " '__gt__',\n",
       " '__hash__',\n",
       " '__init__',\n",
       " '__init_subclass__',\n",
       " '__le__',\n",
       " '__lt__',\n",
       " '__module__',\n",
       " '__ne__',\n",
       " '__new__',\n",
       " '__reduce__',\n",
       " '__reduce_ex__',\n",
       " '__repr__',\n",
       " '__setattr__',\n",
       " '__sizeof__',\n",
       " '__str__',\n",
       " '__subclasshook__',\n",
       " '__weakref__',\n",
       " 'category',\n",
       " 'details',\n",
       " 'include',\n",
       " 'make_prompt',\n",
       " 'parse',\n",
       " 'price',\n",
       " 'prompt',\n",
       " 'scrub',\n",
       " 'scrub_details',\n",
       " 'test_prompt',\n",
       " 'title',\n",
       " 'token_count',\n",
       " 'tokenizer']"
      ]
     },
     "execution_count": 4,
     "metadata": {},
     "output_type": "execute_result"
    }
   ],
   "source": [
    "dir(train[0])"
   ]
  },
  {
   "cell_type": "code",
   "execution_count": 5,
   "id": "06a45a8e-4cd8-4482-b429-3cd965f4a037",
   "metadata": {},
   "outputs": [],
   "source": [
    "items = train + test"
   ]
  },
  {
   "cell_type": "code",
   "execution_count": 6,
   "id": "bbfcdf4e-6930-4869-90c6-5621363d6eeb",
   "metadata": {},
   "outputs": [
    {
     "data": {
      "text/plain": [
       "402000"
      ]
     },
     "execution_count": 6,
     "metadata": {},
     "output_type": "execute_result"
    }
   ],
   "source": [
    "len(items)"
   ]
  },
  {
   "cell_type": "code",
   "execution_count": 7,
   "id": "5826a2c6-7415-4fc9-a14b-52887779c56a",
   "metadata": {},
   "outputs": [
    {
     "name": "stderr",
     "output_type": "stream",
     "text": [
      "100%|███████████████████████████████| 402000/402000 [00:02<00:00, 152499.00it/s]\n"
     ]
    }
   ],
   "source": [
    "for item in tqdm(items):\n",
    "    item.features = json.loads(item.details)"
   ]
  },
  {
   "cell_type": "code",
   "execution_count": 8,
   "id": "cb999565-c862-416d-a65e-8b31be673bd0",
   "metadata": {},
   "outputs": [],
   "source": [
    "for item in items:\n",
    "    w = item.features.get('Item Weight')\n",
    "    if w:\n",
    "        space = w.index(' ')\n",
    "        item.weight = float(w[:space])\n",
    "        item.units = w[space+1:]\n",
    "    else:\n",
    "        item.weight = None\n",
    "        item.units = None"
   ]
  },
  {
   "cell_type": "code",
   "execution_count": 9,
   "id": "97d2d895-e093-4ac5-82ec-7c6452678299",
   "metadata": {},
   "outputs": [
    {
     "data": {
      "text/plain": [
       "'Pounds'"
      ]
     },
     "execution_count": 9,
     "metadata": {},
     "output_type": "execute_result"
    }
   ],
   "source": [
    "items[0].units"
   ]
  },
  {
   "cell_type": "code",
   "execution_count": 10,
   "id": "ace14264-8f45-4b33-bf86-571e75da6fdd",
   "metadata": {},
   "outputs": [
    {
     "data": {
      "text/plain": [
       "{'Grams',\n",
       " 'Hundredths Pounds',\n",
       " 'Kilograms',\n",
       " 'Milligrams',\n",
       " 'Ounces',\n",
       " 'Pounds',\n",
       " 'ounces',\n",
       " 'pounds'}"
      ]
     },
     "execution_count": 10,
     "metadata": {},
     "output_type": "execute_result"
    }
   ],
   "source": [
    "set(item.units for item in items if item.units is not None)"
   ]
  },
  {
   "cell_type": "code",
   "execution_count": 11,
   "id": "c3a2dae3-3cea-46bc-ade1-b57fbc0d1406",
   "metadata": {},
   "outputs": [],
   "source": [
    "multipliers = {'Grams': 0.035274,\n",
    " 'Hundredths Pounds': 0.16,\n",
    " 'Kilograms': 35.27396,\n",
    " 'Milligrams': 0.000035274,\n",
    " 'Ounces': 1,\n",
    " 'Pounds': 16,\n",
    " 'ounces': 1,\n",
    " 'pounds': 16}"
   ]
  },
  {
   "cell_type": "code",
   "execution_count": 12,
   "id": "cfcb22b3-ed90-443e-85ab-cb70079947d8",
   "metadata": {},
   "outputs": [],
   "source": [
    "for item in items:\n",
    "    if item.weight:\n",
    "        item.weight = item.weight * multipliers[item.units]\n",
    "        item.units = \"ounces\""
   ]
  },
  {
   "cell_type": "code",
   "execution_count": 13,
   "id": "08c8a1a0-140a-4b97-9db5-2d1791c3d713",
   "metadata": {},
   "outputs": [],
   "source": [
    "for item in items:\n",
    "    ranks = item.features.get(\"Best Sellers Rank\")\n",
    "    if ranks:\n",
    "        item.rank = min(ranks.values())\n",
    "    else:\n",
    "        item.rank = None"
   ]
  },
  {
   "cell_type": "code",
   "execution_count": 14,
   "id": "1e6a04e7-d6c9-4100-80f6-280d45f1a74e",
   "metadata": {},
   "outputs": [
    {
     "data": {
      "text/plain": [
       "402000"
      ]
     },
     "execution_count": 14,
     "metadata": {},
     "output_type": "execute_result"
    }
   ],
   "source": [
    "len(items)"
   ]
  },
  {
   "cell_type": "code",
   "execution_count": 15,
   "id": "1008ed8f-bf8a-414d-9b32-0e06ec02e962",
   "metadata": {},
   "outputs": [],
   "source": [
    "from datetime import datetime\n",
    "\n",
    "replacer = {\n",
    "    \"01M\": \"January\",\n",
    "    \"02M\": \"February\",\n",
    "    \"03M\": \"March\",\n",
    "    \"04M\": \"April\",\n",
    "    \"05M\": \"May\",\n",
    "    \"06M\": \"June\",\n",
    "    \"07M\": \"July\",\n",
    "    \"08M\": \"August\",\n",
    "    \"09M\": \"September\",\n",
    "    \"10M\": \"October\",\n",
    "    \"11M\": \"November\",\n",
    "    \"12M\": \"December\"\n",
    "}\n",
    "\n",
    "for item in items:\n",
    "    avail = item.features.get(\"Date First Available\")\n",
    "    if avail:\n",
    "        for key, value in replacer.items():\n",
    "            avail = avail.replace(key, value)\n",
    "        date_obj = datetime.strptime(avail, \"%B %d, %Y\")\n",
    "        item.timestamp = date_obj.timestamp()\n",
    "    else:\n",
    "        item.timestamp = None"
   ]
  },
  {
   "cell_type": "code",
   "execution_count": 16,
   "id": "68099ece-bd15-42d5-8338-a87f8b3568ac",
   "metadata": {},
   "outputs": [],
   "source": [
    "top_tech = ['samsung', 'sony', 'garmin', 'intel', 'dell computers','hp','lg','asus', 'nikon']\n",
    "top_toys = ['mattel', 'hasbro', 'lego']\n",
    "for item in items:\n",
    "    item.is_top_tech = (item.features.get(\"Manufacturer\") or \"\").lower() in top_tech\n",
    "    item.is_top_toys = (item.features.get(\"Manufacturer\") or \"\").lower() in top_toys\n"
   ]
  },
  {
   "cell_type": "code",
   "execution_count": 18,
   "id": "9bdfc88d-81f8-47a9-8128-d4ee5cad400f",
   "metadata": {},
   "outputs": [
    {
     "data": {
      "text/plain": [
       "217.19522700550888"
      ]
     },
     "execution_count": 18,
     "metadata": {},
     "output_type": "execute_result"
    }
   ],
   "source": [
    "ranks = [i.rank for i in items if i.rank]\n",
    "average_rank = sum(ranks)/len(ranks)\n",
    "weights = [i.weight for i in items if i.weight]\n",
    "average_weight = sum(weights)/len(weights)\n",
    "timestamps"
   ]
  },
  {
   "cell_type": "code",
   "execution_count": 20,
   "id": "5058f2a5-1be7-4edc-8de7-9b3eb0a8650b",
   "metadata": {},
   "outputs": [],
   "source": [
    "train_features = [t for t in train if t.rank and t.weight and t.timestamp]"
   ]
  },
  {
   "cell_type": "code",
   "execution_count": 21,
   "id": "9b97c9ac-638f-4f88-a608-9602817879d7",
   "metadata": {},
   "outputs": [
    {
     "data": {
      "text/plain": [
       "277220"
      ]
     },
     "execution_count": 21,
     "metadata": {},
     "output_type": "execute_result"
    }
   ],
   "source": [
    "len(train_features)"
   ]
  },
  {
   "cell_type": "code",
   "execution_count": 22,
   "id": "cd3d19e2-609a-4b87-9ed7-685fd9594b35",
   "metadata": {},
   "outputs": [],
   "source": [
    "test_features = [t for t in test if t.rank and t.weight and t.timestamp]"
   ]
  },
  {
   "cell_type": "code",
   "execution_count": 23,
   "id": "cc18f9ef-95a6-4d36-9703-6c1c05c327d5",
   "metadata": {},
   "outputs": [
    {
     "data": {
      "text/plain": [
       "1416"
      ]
     },
     "execution_count": 23,
     "metadata": {},
     "output_type": "execute_result"
    }
   ],
   "source": [
    "len(test_features)"
   ]
  },
  {
   "cell_type": "code",
   "execution_count": 24,
   "id": "485f7669-bf5b-4d34-ab05-f0901fe7f471",
   "metadata": {},
   "outputs": [],
   "source": [
    "\n",
    "with open('../training_data.pkl', 'wb') as file:\n",
    "    pickle.dump(train_features, file)\n",
    "\n",
    "with open('../test_data.pkl', 'wb') as file:\n",
    "    pickle.dump(test_features, file)"
   ]
  },
  {
   "cell_type": "code",
   "execution_count": 1,
   "id": "7c6b5151-49fa-4398-b0e8-c07e4799b42a",
   "metadata": {},
   "outputs": [
    {
     "ename": "NameError",
     "evalue": "name 'items' is not defined",
     "output_type": "error",
     "traceback": [
      "\u001b[0;31m---------------------------------------------------------------------------\u001b[0m",
      "\u001b[0;31mNameError\u001b[0m                                 Traceback (most recent call last)",
      "Cell \u001b[0;32mIn[1], line 1\u001b[0m\n\u001b[0;32m----> 1\u001b[0m \u001b[38;5;28mlen\u001b[39m(\u001b[43mitems\u001b[49m)\n",
      "\u001b[0;31mNameError\u001b[0m: name 'items' is not defined"
     ]
    }
   ],
   "source": [
    "len(items)"
   ]
  },
  {
   "cell_type": "code",
   "execution_count": null,
   "id": "af84dd16-3eb4-4eac-8eb4-5b94ba5fed5e",
   "metadata": {},
   "outputs": [],
   "source": []
  }
 ],
 "metadata": {
  "kernelspec": {
   "display_name": "Python 3 (ipykernel)",
   "language": "python",
   "name": "python3"
  },
  "language_info": {
   "codemirror_mode": {
    "name": "ipython",
    "version": 3
   },
   "file_extension": ".py",
   "mimetype": "text/x-python",
   "name": "python",
   "nbconvert_exporter": "python",
   "pygments_lexer": "ipython3",
   "version": "3.11.10"
  }
 },
 "nbformat": 4,
 "nbformat_minor": 5
}
