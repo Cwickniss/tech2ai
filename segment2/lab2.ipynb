{
 "cells": [
  {
   "cell_type": "markdown",
   "id": "dd7b0dad-866b-44b0-a9e5-0c813d21b0a5",
   "metadata": {},
   "source": [
    "# Segment 2 Lab 2\n",
    "\n",
    "## A real world case study\n",
    "\n",
    "We will look at prices of actual products scraped from Amazon\n",
    "\n",
    "We have details of the products, along with key features.\n",
    "\n",
    "We'll first examine the data, then we'll run Regression"
   ]
  },
  {
   "cell_type": "code",
   "execution_count": null,
   "id": "2c80f60c-cd64-4948-93b0-4f6c4210b656",
   "metadata": {},
   "outputs": [],
   "source": [
    "# imports\n",
    "\n",
    "import os\n",
    "import random\n",
    "from dotenv import load_dotenv\n",
    "from huggingface_hub import login\n",
    "from datasets import load_dataset, Dataset, DatasetDict\n",
    "from items import Item\n",
    "from loaders import ItemLoader\n",
    "import matplotlib.pyplot as plt\n",
    "from collections import Counter, defaultdict\n",
    "import numpy as np\n",
    "from tqdm import tqdm\n",
    "import pickle\n",
    "import json"
   ]
  },
  {
   "cell_type": "code",
   "execution_count": null,
   "id": "5b526375-9a6d-4096-9bed-1a74917d1c15",
   "metadata": {},
   "outputs": [],
   "source": [
    "# Load in dataset\n",
    "\n",
    "with open('../training_data.pkl', 'rb') as file:\n",
    "    train = pickle.load(file)\n",
    "\n",
    "with open('../test_data.pkl', 'rb') as file:\n",
    "    test = pickle.load(file)"
   ]
  },
  {
   "cell_type": "code",
   "execution_count": null,
   "id": "b598dae0-c8b8-4947-8409-0884c2f1340c",
   "metadata": {},
   "outputs": [],
   "source": [
    "items = train + test"
   ]
  },
  {
   "cell_type": "code",
   "execution_count": null,
   "id": "0a70fe55-bbb5-47d2-b82f-29b3f8bad4c0",
   "metadata": {},
   "outputs": [],
   "source": [
    "categories = list(set(item.category for item in items))\n",
    "counts = [len([item for item in items if item.category==category]) for category in categories]"
   ]
  },
  {
   "cell_type": "code",
   "execution_count": null,
   "id": "409a10b0-8b4f-455c-8e5a-642850aae934",
   "metadata": {},
   "outputs": [],
   "source": [
    "\n",
    "# Bar chart by category\n",
    "plt.figure(figsize=(15, 6))\n",
    "plt.bar(categories, counts, color=\"goldenrod\")\n",
    "plt.title('How many in each category')\n",
    "plt.xlabel('Categories')\n",
    "plt.ylabel('Count')\n",
    "\n",
    "plt.xticks(rotation=30, ha='right')\n",
    "\n",
    "# Add value labels on top of each bar\n",
    "for i, v in enumerate(counts):\n",
    "    plt.text(i, v, f\"{v:,}\", ha='center', va='bottom')\n",
    "\n",
    "# Display the chart\n",
    "plt.show()"
   ]
  },
  {
   "cell_type": "code",
   "execution_count": null,
   "id": "649915f4-103e-4017-90cd-ba6dbabdd106",
   "metadata": {},
   "outputs": [],
   "source": [
    "# Plot the distribution of prices\n",
    "\n",
    "prices = [item.price for item in items]\n",
    "plt.figure(figsize=(15, 6))\n",
    "plt.title(f\"Prices: Avg {sum(prices)/len(prices):,.1f} and highest {max(prices):,}\\n\")\n",
    "plt.xlabel('Price ($)')\n",
    "plt.ylabel('Count')\n",
    "plt.hist(prices, rwidth=0.7, color=\"purple\", bins=range(0, 1000, 10))\n",
    "plt.show()"
   ]
  },
  {
   "cell_type": "code",
   "execution_count": null,
   "id": "dc3b708e-3af4-404d-b7cd-3034422b3ce2",
   "metadata": {},
   "outputs": [],
   "source": [
    "# Plot the distribution of weights\n",
    "\n",
    "weights = [item.weight for item in items]\n",
    "plt.figure(figsize=(15, 6))\n",
    "plt.title(f\"Weight (ounces)\")\n",
    "plt.xlabel('Weight (ounces)')\n",
    "plt.ylabel('Count')\n",
    "plt.hist(weights, rwidth=0.7, color=\"skyblue\", bins=range(0, 1000, 20))\n",
    "plt.show()"
   ]
  },
  {
   "cell_type": "code",
   "execution_count": null,
   "id": "4919e5fa-a087-4d76-b7a3-766bb841347d",
   "metadata": {},
   "outputs": [],
   "source": [
    "# How does the price vary with the weight\n",
    "\n",
    "weights = [item.weight for item in items]\n",
    "prices = [item.price for item in items]\n",
    "\n",
    "# Create the scatter plot\n",
    "plt.figure(figsize=(15, 8))\n",
    "plt.scatter(weights, prices, s=0.2, color=\"red\")\n",
    "plt.xlim(0, 2000)\n",
    "plt.ylim(0, 1000)\n",
    "\n",
    "# Add labels and title\n",
    "plt.xlabel('Weight')\n",
    "plt.ylabel('Price')\n",
    "plt.title('Investigate correlations')\n",
    "\n",
    "# Display the plot\n",
    "plt.show()"
   ]
  },
  {
   "cell_type": "code",
   "execution_count": null,
   "id": "7071701f-f420-42e1-8131-ec6f79939a09",
   "metadata": {},
   "outputs": [],
   "source": [
    "# How does the price vary with the weight\n",
    "\n",
    "ranks = [item.rank for item in items]\n",
    "prices = [item.price for item in items]\n",
    "\n",
    "# Create the scatter plot\n",
    "plt.figure(figsize=(15, 8))\n",
    "plt.scatter(ranks, prices, s=0.2, color=\"green\")\n",
    "plt.xlim(0, 10000)\n",
    "plt.ylim(0, 1000)\n",
    "\n",
    "# Add labels and title\n",
    "plt.xlabel('Rank')\n",
    "plt.ylabel('Price')\n",
    "plt.title('Investigate correlations')\n",
    "\n",
    "# Display the plot\n",
    "plt.show()"
   ]
  },
  {
   "cell_type": "code",
   "execution_count": null,
   "id": "6639be4b-0a9c-48b1-b507-005161ef3e2e",
   "metadata": {},
   "outputs": [],
   "source": [
    "# How does the price vary with the timestamo\n",
    "\n",
    "when = [item.timestamp for item in items]\n",
    "prices = [item.price for item in items]\n",
    "\n",
    "# Create the scatter plot\n",
    "plt.figure(figsize=(15, 8))\n",
    "plt.scatter(when, prices, s=0.2, color=\"orange\")\n",
    "plt.ylim(0, 1000)\n",
    "plt.xlim(0, 2e9)\n",
    "\n",
    "# Add labels and title\n",
    "plt.xlabel('When')\n",
    "plt.ylabel('Price')\n",
    "plt.title('Investigate correlations')\n",
    "\n",
    "# Display the plot\n",
    "plt.show()"
   ]
  },
  {
   "cell_type": "code",
   "execution_count": null,
   "id": "b8ab4c36-27ba-4b3c-8934-e47b0e920bbf",
   "metadata": {},
   "outputs": [],
   "source": [
    "# Imports for machine learning\n",
    "\n",
    "import pandas as pd\n",
    "import numpy as np\n",
    "from sklearn.linear_model import LinearRegression\n",
    "from sklearn.metrics import mean_squared_error, r2_score\n",
    "from sklearn.preprocessing import StandardScaler\n",
    "from sklearn.feature_extraction.text import CountVectorizer\n",
    "from sklearn.ensemble import RandomForestRegressor\n",
    "from testing import Tester"
   ]
  },
  {
   "cell_type": "code",
   "execution_count": null,
   "id": "7981073b-9b64-45fe-a498-ef60c0c23c30",
   "metadata": {},
   "outputs": [],
   "source": [
    "def guess(item):\n",
    "    return random.randrange(1,1000)"
   ]
  },
  {
   "cell_type": "code",
   "execution_count": null,
   "id": "f67a6709-8477-4c10-96b0-66c19ddd36d9",
   "metadata": {},
   "outputs": [],
   "source": [
    "random.seed(42)"
   ]
  },
  {
   "cell_type": "code",
   "execution_count": null,
   "id": "42423085-bcf7-445b-af9e-ebeef2806b43",
   "metadata": {},
   "outputs": [],
   "source": [
    "Tester.test(guess, test)"
   ]
  },
  {
   "cell_type": "code",
   "execution_count": null,
   "id": "4e1bab05-c6f5-40a1-90e7-a11d32078fcd",
   "metadata": {},
   "outputs": [],
   "source": [
    "train_prices = [t.price for t in train]\n",
    "train_average = sum(train_prices)/len(train_prices)\n",
    "\n",
    "def guess2(item):\n",
    "    return train_average"
   ]
  },
  {
   "cell_type": "code",
   "execution_count": null,
   "id": "bba6e3fc-2a12-42cd-84bb-332be9c1ec24",
   "metadata": {},
   "outputs": [],
   "source": [
    "Tester.test(guess2, test)"
   ]
  },
  {
   "cell_type": "code",
   "execution_count": null,
   "id": "8ee317af-450f-4265-b419-b4fae056ca5b",
   "metadata": {},
   "outputs": [],
   "source": [
    "# Now let's do linear regression with our features\n",
    "\n",
    "def get_features(item):\n",
    "    return {\n",
    "        \"weight\": item.weight,\n",
    "        \"rank\": item.rank,\n",
    "        \"timestamp\": item.timestamp,\n",
    "        \"is_top_tech\": 1 if item.is_top_tech else 0,\n",
    "        \"is_top_toys\": 1 if item.is_top_toys else 0,\n",
    "        \"price\": item.price\n",
    "    }\n",
    "\n",
    "def list_to_dataframe(items):\n",
    "    features = [get_features(item) for item in items]\n",
    "    df = pd.DataFrame(features)\n",
    "    df['price'] = [item.price for item in items]\n",
    "    return df\n",
    "\n",
    "train_df = list_to_dataframe(train)\n",
    "test_df = list_to_dataframe(test[:250])"
   ]
  },
  {
   "cell_type": "code",
   "execution_count": null,
   "id": "9ce217a2-5082-43db-8060-dbfa14411f31",
   "metadata": {},
   "outputs": [],
   "source": [
    "# Traditional Linear Regression!\n",
    "\n",
    "np.random.seed(42)\n",
    "\n",
    "# Separate features and target\n",
    "feature_columns = ['weight', 'rank', 'timestamp', 'is_top_tech', 'is_top_toys']\n",
    "\n",
    "X_train = train_df[feature_columns]\n",
    "y_train = train_df['price']\n",
    "X_test = test_df[feature_columns]\n",
    "y_test = test_df['price']\n",
    "\n",
    "# Train a Linear Regression\n",
    "model = LinearRegression()\n",
    "model.fit(X_train, y_train)\n",
    "\n",
    "for feature, coef in zip(feature_columns, model.coef_):\n",
    "    print(f\"{feature}: {coef}\")\n",
    "print(f\"Intercept: {model.intercept_}\")\n",
    "\n",
    "# Predict the test set and evaluate\n",
    "y_pred = model.predict(X_test)\n",
    "mse = mean_squared_error(y_test, y_pred)\n",
    "r2 = r2_score(y_test, y_pred)\n",
    "\n",
    "print(f\"Mean Squared Error: {mse}\")\n",
    "print(f\"R-squared Score: {r2}\")"
   ]
  },
  {
   "cell_type": "code",
   "execution_count": null,
   "id": "ec8aef9b-b5fb-4798-bf06-535facfa3ee1",
   "metadata": {},
   "outputs": [],
   "source": [
    "# Function to predict price for a new item\n",
    "\n",
    "def linear_regression_pricer(item):\n",
    "    features = get_features(item)\n",
    "    del features[\"price\"]\n",
    "    features_df = pd.DataFrame([features])\n",
    "    return model.predict(features_df)[0]"
   ]
  },
  {
   "cell_type": "code",
   "execution_count": null,
   "id": "7ad41c20-f2ba-4e42-b0a8-4f470d7bb45b",
   "metadata": {},
   "outputs": [],
   "source": [
    "# test it\n",
    "\n",
    "Tester.test(linear_regression_pricer, test)"
   ]
  },
  {
   "cell_type": "code",
   "execution_count": null,
   "id": "6345f4f2-914d-4bda-a400-377d82c9c59b",
   "metadata": {},
   "outputs": [],
   "source": [
    "# For the next few models, we prepare our documents and prices\n",
    "# Note that we use the test prompt for the documents, otherwise we'll reveal the answer!!\n",
    "\n",
    "def description(item):\n",
    "    prompt = item.test_prompt()\n",
    "    return prompt.replace('How much does this cost to the nearest dollar?\\n\\n', '').replace('\\n\\nPrice is $', '')\n",
    "\n",
    "prices = np.array([float(item.price) for item in train])\n",
    "documents = [description(item) for item in train]"
   ]
  },
  {
   "cell_type": "code",
   "execution_count": null,
   "id": "5547eda3-8d9d-4a04-8f7b-e40efb653bf5",
   "metadata": {},
   "outputs": [],
   "source": [
    "documents[0]"
   ]
  },
  {
   "cell_type": "code",
   "execution_count": null,
   "id": "b4fc69b3-cc16-40ad-92fc-63fd63d2a867",
   "metadata": {},
   "outputs": [],
   "source": [
    "# Use the CountVectorizer for a Bag of Words model\n",
    "\n",
    "np.random.seed(42)\n",
    "vectorizer = CountVectorizer(max_features=1000, stop_words='english')\n",
    "X = vectorizer.fit_transform(documents)"
   ]
  },
  {
   "cell_type": "code",
   "execution_count": null,
   "id": "89c5a777-4d4d-4db1-9291-7595a0c79cea",
   "metadata": {},
   "outputs": [],
   "source": [
    "regressor = LinearRegression()\n",
    "regressor.fit(X, prices)"
   ]
  },
  {
   "cell_type": "code",
   "execution_count": null,
   "id": "d8c2eecc-90a5-4936-a521-80d7241dfa8b",
   "metadata": {},
   "outputs": [],
   "source": [
    "def bag_of_words(item):\n",
    "    x = vectorizer.transform([description(item)])\n",
    "    return max(regressor.predict(x)[0], 0)"
   ]
  },
  {
   "cell_type": "code",
   "execution_count": null,
   "id": "8d23f035-fcae-4dff-8c3c-da351086c354",
   "metadata": {},
   "outputs": [],
   "source": [
    "Tester.test(bag_of_words, test)"
   ]
  },
  {
   "cell_type": "code",
   "execution_count": null,
   "id": "fa1ace02-2d36-4e13-8960-2eac02c8c94e",
   "metadata": {},
   "outputs": [],
   "source": [
    "# And the powerful Random Forest regression\n",
    "\n",
    "subset=20_000\n",
    "rf_model = RandomForestRegressor(n_estimators=100, random_state=42, n_jobs=8)\n",
    "rf_model.fit(X[:subset], prices[:subset])"
   ]
  },
  {
   "cell_type": "code",
   "execution_count": null,
   "id": "f4a1cb03-6d5d-4080-b8d8-a058bc633fe8",
   "metadata": {},
   "outputs": [],
   "source": [
    "def random_forest(item):\n",
    "    x = vectorizer.transform([description(item)])\n",
    "    return max(0, rf_model.predict(x)[0])"
   ]
  },
  {
   "cell_type": "code",
   "execution_count": null,
   "id": "dd97632f-2131-4af9-a59b-d9cdec7dfc68",
   "metadata": {},
   "outputs": [],
   "source": [
    "Tester.test(random_forest, test)"
   ]
  },
  {
   "cell_type": "code",
   "execution_count": null,
   "id": "38aad2dc-ed81-45ea-b47d-77ecb919b6ed",
   "metadata": {},
   "outputs": [],
   "source": []
  }
 ],
 "metadata": {
  "kernelspec": {
   "display_name": "Python 3 (ipykernel)",
   "language": "python",
   "name": "python3"
  },
  "language_info": {
   "codemirror_mode": {
    "name": "ipython",
    "version": 3
   },
   "file_extension": ".py",
   "mimetype": "text/x-python",
   "name": "python",
   "nbconvert_exporter": "python",
   "pygments_lexer": "ipython3",
   "version": "3.11.10"
  }
 },
 "nbformat": 4,
 "nbformat_minor": 5
}
